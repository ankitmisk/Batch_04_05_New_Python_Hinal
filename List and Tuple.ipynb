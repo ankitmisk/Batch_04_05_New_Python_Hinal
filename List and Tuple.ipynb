{
 "cells": [
  {
   "cell_type": "code",
   "execution_count": 1,
   "id": "d38e0cf5",
   "metadata": {},
   "outputs": [
    {
     "name": "stdout",
     "output_type": "stream",
     "text": [
      "[23, 543, 5432, 54, 65]\n"
     ]
    }
   ],
   "source": [
    "a = [23,543,5432,54,65]\n",
    "\n",
    "print(a)"
   ]
  },
  {
   "cell_type": "code",
   "execution_count": 2,
   "id": "c0a57831",
   "metadata": {},
   "outputs": [
    {
     "name": "stdout",
     "output_type": "stream",
     "text": [
      "<class 'list'>\n"
     ]
    }
   ],
   "source": [
    "print(type(a))"
   ]
  },
  {
   "cell_type": "code",
   "execution_count": 3,
   "id": "274ac9bd",
   "metadata": {},
   "outputs": [
    {
     "name": "stdout",
     "output_type": "stream",
     "text": [
      "[23, 4, 2, 45, 4, 2346]\n"
     ]
    }
   ],
   "source": [
    "b = list((23,4,2,45,4,2346))\n",
    "print(b)"
   ]
  },
  {
   "cell_type": "code",
   "execution_count": 4,
   "id": "a8bdb684",
   "metadata": {},
   "outputs": [
    {
     "data": {
      "text/plain": [
       "[12, 3.5, True, (12, 43, 5), [2, 34, 6], {'Name': 'Mohan'}, {5, 6, 23}]"
      ]
     },
     "execution_count": 4,
     "metadata": {},
     "output_type": "execute_result"
    }
   ],
   "source": [
    "# list can contain any datatypes:- \n",
    "\n",
    "a = [12,3.5,True, (12,43,5),[2,34,6],{'Name':'Mohan'},{23,5,6}]\n",
    "a"
   ]
  },
  {
   "cell_type": "code",
   "execution_count": 5,
   "id": "e7900bfb",
   "metadata": {},
   "outputs": [
    {
     "data": {
      "text/plain": [
       "[1, 2, 21, 2, 2, 2, 2, 3, 3, 3, 3, 4, 4]"
      ]
     },
     "execution_count": 5,
     "metadata": {},
     "output_type": "execute_result"
    }
   ],
   "source": [
    "d = [1,2,21,2,2,2,2,3,3,3,3,4,4]\n",
    "\n",
    "d"
   ]
  },
  {
   "cell_type": "code",
   "execution_count": 6,
   "id": "dcba4e1a",
   "metadata": {},
   "outputs": [],
   "source": [
    "# some basic op with list"
   ]
  },
  {
   "cell_type": "code",
   "execution_count": 7,
   "id": "d13e9e11",
   "metadata": {},
   "outputs": [
    {
     "name": "stdout",
     "output_type": "stream",
     "text": [
      "[12, 34, 5432, 5]\n"
     ]
    }
   ],
   "source": [
    "a = [12,34,5432,5]\n",
    "\n",
    "print(a)"
   ]
  },
  {
   "cell_type": "code",
   "execution_count": 11,
   "id": "23b45a44",
   "metadata": {},
   "outputs": [
    {
     "name": "stdout",
     "output_type": "stream",
     "text": [
      "[12, 34, 5432, 5, 12, 34, 5432, 5]\n"
     ]
    }
   ],
   "source": [
    "print(a*2)"
   ]
  },
  {
   "cell_type": "code",
   "execution_count": 12,
   "id": "f782052c",
   "metadata": {},
   "outputs": [
    {
     "name": "stdout",
     "output_type": "stream",
     "text": [
      "[2, 34, 32, 5, 3, 45, 43, 264]\n"
     ]
    }
   ],
   "source": [
    "a = [2,34,32,5]\n",
    "b = [3,45,43,264]\n",
    "\n",
    "print(a + b)"
   ]
  },
  {
   "cell_type": "code",
   "execution_count": 13,
   "id": "ca397c97",
   "metadata": {},
   "outputs": [],
   "source": [
    "d = 'Python'\n",
    "#      012345"
   ]
  },
  {
   "cell_type": "code",
   "execution_count": 14,
   "id": "9291bad1",
   "metadata": {},
   "outputs": [],
   "source": [
    "data = [1,234,4,2346,554,567]\n",
    "\n",
    "#         0,1,2,3,4,5"
   ]
  },
  {
   "cell_type": "code",
   "execution_count": 15,
   "id": "d7294a53",
   "metadata": {},
   "outputs": [
    {
     "data": {
      "text/plain": [
       "2346"
      ]
     },
     "execution_count": 15,
     "metadata": {},
     "output_type": "execute_result"
    }
   ],
   "source": [
    "data[3]"
   ]
  },
  {
   "cell_type": "code",
   "execution_count": 17,
   "id": "cea1272a",
   "metadata": {},
   "outputs": [],
   "source": [
    "data[3] = 34"
   ]
  },
  {
   "cell_type": "code",
   "execution_count": 18,
   "id": "25222f51",
   "metadata": {},
   "outputs": [
    {
     "name": "stdout",
     "output_type": "stream",
     "text": [
      "[1, 234, 4, 34, 554, 567]\n"
     ]
    }
   ],
   "source": [
    "print(data)"
   ]
  },
  {
   "cell_type": "code",
   "execution_count": 19,
   "id": "2b3d738c",
   "metadata": {},
   "outputs": [],
   "source": [
    "# positive, negative index"
   ]
  },
  {
   "cell_type": "code",
   "execution_count": 21,
   "id": "be3d692f",
   "metadata": {},
   "outputs": [],
   "source": [
    "data[-4] = 234567890"
   ]
  },
  {
   "cell_type": "code",
   "execution_count": 22,
   "id": "61526722",
   "metadata": {},
   "outputs": [
    {
     "name": "stdout",
     "output_type": "stream",
     "text": [
      "[1, 234, 234567890, 34, 554, 567]\n"
     ]
    }
   ],
   "source": [
    "print(data)"
   ]
  },
  {
   "cell_type": "code",
   "execution_count": 24,
   "id": "addd60d7",
   "metadata": {},
   "outputs": [],
   "source": [
    "# nested list"
   ]
  },
  {
   "cell_type": "code",
   "execution_count": 25,
   "id": "1b7789ca",
   "metadata": {},
   "outputs": [
    {
     "name": "stdout",
     "output_type": "stream",
     "text": [
      "[23, 3, 4, 6, [23, 3, 453, 5], [2, 345, 46]]\n"
     ]
    }
   ],
   "source": [
    "data = [23,3,4,6,[23,3,453,5],[2,345,46]]\n",
    "\n",
    "print(data)"
   ]
  },
  {
   "cell_type": "code",
   "execution_count": 26,
   "id": "0c1a884b",
   "metadata": {},
   "outputs": [
    {
     "data": {
      "text/plain": [
       "[23, 3, 453, 5]"
      ]
     },
     "execution_count": 26,
     "metadata": {},
     "output_type": "execute_result"
    }
   ],
   "source": [
    "data[4]"
   ]
  },
  {
   "cell_type": "code",
   "execution_count": 27,
   "id": "0783bd93",
   "metadata": {},
   "outputs": [
    {
     "data": {
      "text/plain": [
       "[23, 3, 453, 5]"
      ]
     },
     "execution_count": 27,
     "metadata": {},
     "output_type": "execute_result"
    }
   ],
   "source": [
    "data[-2]"
   ]
  },
  {
   "cell_type": "code",
   "execution_count": 29,
   "id": "ab421fe3",
   "metadata": {},
   "outputs": [],
   "source": [
    "data[4][2] = 10000"
   ]
  },
  {
   "cell_type": "code",
   "execution_count": 30,
   "id": "c318805c",
   "metadata": {},
   "outputs": [
    {
     "name": "stdout",
     "output_type": "stream",
     "text": [
      "[23, 3, 4, 6, [23, 3, 10000, 5], [2, 345, 46]]\n"
     ]
    }
   ],
   "source": [
    "print(data)"
   ]
  },
  {
   "cell_type": "code",
   "execution_count": 33,
   "id": "ea5d1fa8",
   "metadata": {},
   "outputs": [],
   "source": [
    "data[5][1] = 200"
   ]
  },
  {
   "cell_type": "code",
   "execution_count": 34,
   "id": "5ccedfab",
   "metadata": {},
   "outputs": [
    {
     "name": "stdout",
     "output_type": "stream",
     "text": [
      "[23, 3, 4, 6, [23, 3, 10000, 5], [2, 200, 46]]\n"
     ]
    }
   ],
   "source": [
    "print(data)"
   ]
  },
  {
   "cell_type": "code",
   "execution_count": 36,
   "id": "497199f7",
   "metadata": {},
   "outputs": [],
   "source": [
    "sales = [2,35,32,45,6534,5,43,25,[23,4423,4,345,[23,524,35,[324,547,]]]]"
   ]
  },
  {
   "cell_type": "code",
   "execution_count": 37,
   "id": "1fe6e6b6",
   "metadata": {},
   "outputs": [
    {
     "name": "stdout",
     "output_type": "stream",
     "text": [
      "[2, 35, 32, 45, 6534, 5, 43, 25, [23, 4423, 4, 345, [23, 524, 35, [324, 547]]]]\n"
     ]
    }
   ],
   "source": [
    "print(sales)"
   ]
  },
  {
   "cell_type": "code",
   "execution_count": 47,
   "id": "7b9e56ad",
   "metadata": {},
   "outputs": [],
   "source": [
    "sales[8][4][3][0] = 2909909"
   ]
  },
  {
   "cell_type": "code",
   "execution_count": 46,
   "id": "d80e9ad2",
   "metadata": {},
   "outputs": [
    {
     "data": {
      "text/plain": [
       "324"
      ]
     },
     "execution_count": 46,
     "metadata": {},
     "output_type": "execute_result"
    }
   ],
   "source": [
    "sales[-1][-1][-1][0]"
   ]
  },
  {
   "cell_type": "code",
   "execution_count": 48,
   "id": "20f3f481",
   "metadata": {},
   "outputs": [
    {
     "name": "stdout",
     "output_type": "stream",
     "text": [
      "[2, 35, 32, 45, 6534, 5, 43, 25, [23, 4423, 4, 345, [23, 524, 35, [2909909, 547]]]]\n"
     ]
    }
   ],
   "source": [
    "print(sales)"
   ]
  },
  {
   "cell_type": "code",
   "execution_count": 50,
   "id": "58def0fd",
   "metadata": {},
   "outputs": [],
   "source": [
    "# (12,35,235)[0]=24"
   ]
  },
  {
   "cell_type": "code",
   "execution_count": 51,
   "id": "a8f7482e",
   "metadata": {},
   "outputs": [],
   "source": [
    "# list support item assignment"
   ]
  },
  {
   "cell_type": "code",
   "execution_count": 52,
   "id": "912f718e",
   "metadata": {},
   "outputs": [],
   "source": [
    "# slicing"
   ]
  },
  {
   "cell_type": "code",
   "execution_count": 53,
   "id": "f393359e",
   "metadata": {},
   "outputs": [
    {
     "name": "stdout",
     "output_type": "stream",
     "text": [
      "[2, 34, 2133, 4, 5432, 54, 356, 78, 543, 5, 456789]\n"
     ]
    }
   ],
   "source": [
    "sales = [2,34,2133,4,5432,54,356,78,543,5,456789]\n",
    "\n",
    "print(sales)"
   ]
  },
  {
   "cell_type": "code",
   "execution_count": 54,
   "id": "336b8fed",
   "metadata": {},
   "outputs": [
    {
     "data": {
      "text/plain": [
       "[2, 34, 2133, 4, 5432, 54]"
      ]
     },
     "execution_count": 54,
     "metadata": {},
     "output_type": "execute_result"
    }
   ],
   "source": [
    "sales[0:6]"
   ]
  },
  {
   "cell_type": "code",
   "execution_count": 55,
   "id": "a7104570",
   "metadata": {},
   "outputs": [
    {
     "data": {
      "text/plain": [
       "[2, 34, 2133, 4, 5432, 54]"
      ]
     },
     "execution_count": 55,
     "metadata": {},
     "output_type": "execute_result"
    }
   ],
   "source": [
    "sales[:6]"
   ]
  },
  {
   "cell_type": "code",
   "execution_count": 56,
   "id": "1cf40a57",
   "metadata": {},
   "outputs": [
    {
     "data": {
      "text/plain": [
       "[356, 78, 543, 5, 456789]"
      ]
     },
     "execution_count": 56,
     "metadata": {},
     "output_type": "execute_result"
    }
   ],
   "source": [
    "sales[6:]"
   ]
  },
  {
   "cell_type": "code",
   "execution_count": 59,
   "id": "e8571f53",
   "metadata": {},
   "outputs": [
    {
     "data": {
      "text/plain": [
       "[2, 34, 2133, 4, 5432, 54, 356, 78, 543, 5, 456789]"
      ]
     },
     "execution_count": 59,
     "metadata": {},
     "output_type": "execute_result"
    }
   ],
   "source": [
    "# step\n",
    "sales"
   ]
  },
  {
   "cell_type": "code",
   "execution_count": 58,
   "id": "9dca341e",
   "metadata": {},
   "outputs": [
    {
     "data": {
      "text/plain": [
       "[2, 2133, 5432, 356, 543, 456789]"
      ]
     },
     "execution_count": 58,
     "metadata": {},
     "output_type": "execute_result"
    }
   ],
   "source": [
    "sales[::2]"
   ]
  },
  {
   "cell_type": "code",
   "execution_count": 60,
   "id": "79d341fd",
   "metadata": {},
   "outputs": [
    {
     "data": {
      "text/plain": [
       "[456789, 5, 543, 78, 356, 54, 5432, 4, 2133, 34, 2]"
      ]
     },
     "execution_count": 60,
     "metadata": {},
     "output_type": "execute_result"
    }
   ],
   "source": [
    "sales[::-1]"
   ]
  },
  {
   "cell_type": "code",
   "execution_count": 61,
   "id": "6119f20f",
   "metadata": {},
   "outputs": [],
   "source": [
    "# sales[start:stop:step]"
   ]
  },
  {
   "cell_type": "code",
   "execution_count": 63,
   "id": "1dfc572a",
   "metadata": {},
   "outputs": [
    {
     "data": {
      "text/plain": [
       "[2, 34, 2133, 4, 5432, 54, 356, 78, 543, 5, 456789]"
      ]
     },
     "execution_count": 63,
     "metadata": {},
     "output_type": "execute_result"
    }
   ],
   "source": [
    "sales"
   ]
  },
  {
   "cell_type": "code",
   "execution_count": 62,
   "id": "22f0425d",
   "metadata": {},
   "outputs": [
    {
     "data": {
      "text/plain": [
       "[4, 5432, 54, 356, 78]"
      ]
     },
     "execution_count": 62,
     "metadata": {},
     "output_type": "execute_result"
    }
   ],
   "source": [
    "sales[3:8]"
   ]
  },
  {
   "cell_type": "code",
   "execution_count": 65,
   "id": "4c0f1b0a",
   "metadata": {},
   "outputs": [],
   "source": [
    "sales[3:8] = [0]"
   ]
  },
  {
   "cell_type": "code",
   "execution_count": 66,
   "id": "2396baaa",
   "metadata": {},
   "outputs": [
    {
     "data": {
      "text/plain": [
       "[2, 34, 2133, 0, 543, 5, 456789]"
      ]
     },
     "execution_count": 66,
     "metadata": {},
     "output_type": "execute_result"
    }
   ],
   "source": [
    "sales"
   ]
  },
  {
   "cell_type": "code",
   "execution_count": 70,
   "id": "322dad0c",
   "metadata": {},
   "outputs": [],
   "source": [
    "sales[2:5] = [55]*3"
   ]
  },
  {
   "cell_type": "code",
   "execution_count": 69,
   "id": "70bdc338",
   "metadata": {},
   "outputs": [],
   "source": [
    "# [55]*3"
   ]
  },
  {
   "cell_type": "code",
   "execution_count": 71,
   "id": "9e29da77",
   "metadata": {},
   "outputs": [
    {
     "name": "stdout",
     "output_type": "stream",
     "text": [
      "[2, 34, 55, 55, 55, 5, 456789]\n"
     ]
    }
   ],
   "source": [
    "print(sales)"
   ]
  },
  {
   "cell_type": "code",
   "execution_count": null,
   "id": "c22148ec",
   "metadata": {},
   "outputs": [],
   "source": []
  },
  {
   "cell_type": "code",
   "execution_count": 72,
   "id": "d6171105",
   "metadata": {},
   "outputs": [],
   "source": [
    "# tuple"
   ]
  },
  {
   "cell_type": "code",
   "execution_count": 73,
   "id": "a019f420",
   "metadata": {},
   "outputs": [
    {
     "name": "stdout",
     "output_type": "stream",
     "text": [
      "(1, 23, 235, 2, 5)\n"
     ]
    }
   ],
   "source": [
    "a = (1,23,235,2,5)\n",
    "\n",
    "print(a)"
   ]
  },
  {
   "cell_type": "code",
   "execution_count": 76,
   "id": "eb522e61",
   "metadata": {},
   "outputs": [
    {
     "name": "stdout",
     "output_type": "stream",
     "text": [
      "<class 'tuple'>\n"
     ]
    }
   ],
   "source": [
    "print(type(a))"
   ]
  },
  {
   "cell_type": "code",
   "execution_count": 77,
   "id": "e03394f2",
   "metadata": {},
   "outputs": [
    {
     "data": {
      "text/plain": [
       "(1, 23, 235, 2, 5)"
      ]
     },
     "execution_count": 77,
     "metadata": {},
     "output_type": "execute_result"
    }
   ],
   "source": [
    "a"
   ]
  },
  {
   "cell_type": "code",
   "execution_count": 79,
   "id": "40e4798e",
   "metadata": {},
   "outputs": [
    {
     "ename": "TypeError",
     "evalue": "'tuple' object does not support item assignment",
     "output_type": "error",
     "traceback": [
      "\u001b[1;31m---------------------------------------------------------------------------\u001b[0m",
      "\u001b[1;31mTypeError\u001b[0m                                 Traceback (most recent call last)",
      "Cell \u001b[1;32mIn[79], line 1\u001b[0m\n\u001b[1;32m----> 1\u001b[0m a[\u001b[38;5;241m2\u001b[39m] \u001b[38;5;241m=\u001b[39m \u001b[38;5;241m100\u001b[39m\n",
      "\u001b[1;31mTypeError\u001b[0m: 'tuple' object does not support item assignment"
     ]
    }
   ],
   "source": [
    "a[2] = 100"
   ]
  },
  {
   "cell_type": "code",
   "execution_count": 80,
   "id": "5b0e8450",
   "metadata": {},
   "outputs": [],
   "source": [
    "a = (23,12,434,21,3,46,5)"
   ]
  },
  {
   "cell_type": "code",
   "execution_count": 81,
   "id": "6d623306",
   "metadata": {},
   "outputs": [
    {
     "name": "stdout",
     "output_type": "stream",
     "text": [
      "(5, 46, 3, 21, 434, 12, 23)\n"
     ]
    }
   ],
   "source": [
    "print(a[::-1])"
   ]
  },
  {
   "cell_type": "code",
   "execution_count": 82,
   "id": "b845f0ee",
   "metadata": {},
   "outputs": [
    {
     "data": {
      "text/plain": [
       "(23, 12, 434, 21, 3, 46, 5, 23, 12, 434, 21, 3, 46, 5)"
      ]
     },
     "execution_count": 82,
     "metadata": {},
     "output_type": "execute_result"
    }
   ],
   "source": [
    "a *2"
   ]
  },
  {
   "cell_type": "code",
   "execution_count": 83,
   "id": "d888dd6a",
   "metadata": {},
   "outputs": [
    {
     "name": "stdout",
     "output_type": "stream",
     "text": [
      "(2, 12, 345, 325, 1, 243, 5)\n"
     ]
    }
   ],
   "source": [
    "a = (2,12,345,325)\n",
    "b = (1,243,5)\n",
    "\n",
    "print(a + b)"
   ]
  },
  {
   "cell_type": "code",
   "execution_count": 84,
   "id": "cca06958",
   "metadata": {},
   "outputs": [
    {
     "name": "stdout",
     "output_type": "stream",
     "text": [
      "(1, 24, 35, 'karan', {'Age': 23}, [12, 355, 3], (1, 24, 35), {3, 12, 5})\n"
     ]
    }
   ],
   "source": [
    "d = (1,24,35,'karan',{'Age':23},[12,355,3],(1,24,35),{12,5,3})\n",
    "print(d)"
   ]
  },
  {
   "cell_type": "code",
   "execution_count": 85,
   "id": "b464d638",
   "metadata": {},
   "outputs": [],
   "source": [
    "# nested tuple"
   ]
  },
  {
   "cell_type": "code",
   "execution_count": 88,
   "id": "63696c7c",
   "metadata": {},
   "outputs": [],
   "source": [
    "d = (1,24,34,5,(1,2,43,5,(1,2,435)))"
   ]
  },
  {
   "cell_type": "code",
   "execution_count": 89,
   "id": "a2e3d15a",
   "metadata": {},
   "outputs": [
    {
     "name": "stdout",
     "output_type": "stream",
     "text": [
      "(1, 24, 34, 5, (1, 2, 43, 5, (1, 2, 435)))\n"
     ]
    }
   ],
   "source": [
    "print(d)"
   ]
  },
  {
   "cell_type": "code",
   "execution_count": 90,
   "id": "7e625eca",
   "metadata": {},
   "outputs": [],
   "source": [
    "ab = (1,24,324,2,[1,24,35])"
   ]
  },
  {
   "cell_type": "code",
   "execution_count": 93,
   "id": "af5c2d41",
   "metadata": {},
   "outputs": [],
   "source": [
    "ab[-1][1] = 234567"
   ]
  },
  {
   "cell_type": "code",
   "execution_count": 94,
   "id": "2afdcb41",
   "metadata": {},
   "outputs": [
    {
     "name": "stdout",
     "output_type": "stream",
     "text": [
      "(1, 24, 324, 2, [1, 234567, 35])\n"
     ]
    }
   ],
   "source": [
    "print(ab)"
   ]
  },
  {
   "cell_type": "code",
   "execution_count": null,
   "id": "0070e911",
   "metadata": {},
   "outputs": [],
   "source": []
  },
  {
   "cell_type": "code",
   "execution_count": 96,
   "id": "0e2bb03b",
   "metadata": {},
   "outputs": [],
   "source": [
    "# methods"
   ]
  },
  {
   "cell_type": "markdown",
   "id": "c05e34e2",
   "metadata": {},
   "source": [
    "# List Methods"
   ]
  },
  {
   "cell_type": "code",
   "execution_count": 97,
   "id": "467e991a",
   "metadata": {},
   "outputs": [],
   "source": [
    "a = [12,434,5,325]"
   ]
  },
  {
   "cell_type": "code",
   "execution_count": 98,
   "id": "e3580b00",
   "metadata": {},
   "outputs": [
    {
     "name": "stdout",
     "output_type": "stream",
     "text": [
      "[12, 434, 5, 325]\n"
     ]
    }
   ],
   "source": [
    "print(a)"
   ]
  },
  {
   "cell_type": "code",
   "execution_count": 105,
   "id": "640c3986",
   "metadata": {},
   "outputs": [],
   "source": [
    "a.append(500)"
   ]
  },
  {
   "cell_type": "code",
   "execution_count": 106,
   "id": "31ace68f",
   "metadata": {},
   "outputs": [
    {
     "name": "stdout",
     "output_type": "stream",
     "text": [
      "[12, 434, 5, 325, 100, 100, 100, 500]\n"
     ]
    }
   ],
   "source": [
    "print(a)"
   ]
  },
  {
   "cell_type": "code",
   "execution_count": 107,
   "id": "32c8c5b5",
   "metadata": {},
   "outputs": [],
   "source": [
    "a.append([1,24,1253])"
   ]
  },
  {
   "cell_type": "code",
   "execution_count": 108,
   "id": "9ec41218",
   "metadata": {},
   "outputs": [
    {
     "name": "stdout",
     "output_type": "stream",
     "text": [
      "[12, 434, 5, 325, 100, 100, 100, 500, [1, 24, 1253]]\n"
     ]
    }
   ],
   "source": [
    "print(a)"
   ]
  },
  {
   "cell_type": "code",
   "execution_count": 109,
   "id": "2bd2c8b0",
   "metadata": {},
   "outputs": [],
   "source": [
    "a.append(None)"
   ]
  },
  {
   "cell_type": "code",
   "execution_count": 111,
   "id": "8419cd75",
   "metadata": {},
   "outputs": [
    {
     "name": "stdout",
     "output_type": "stream",
     "text": [
      "[12, 434, 5, 325, 100, 100, 100, 500, [1, 24, 1253], None]\n"
     ]
    }
   ],
   "source": [
    "print(a)"
   ]
  },
  {
   "cell_type": "code",
   "execution_count": 112,
   "id": "7c405a0b",
   "metadata": {},
   "outputs": [
    {
     "name": "stdout",
     "output_type": "stream",
     "text": [
      "[3, 12, 3, 33, 5, 24, 345, 4]\n"
     ]
    }
   ],
   "source": [
    "a = [3,12,3,33,5,24,345,4]\n",
    "print(a)"
   ]
  },
  {
   "cell_type": "code",
   "execution_count": 113,
   "id": "863451d1",
   "metadata": {},
   "outputs": [],
   "source": [
    "a.clear()"
   ]
  },
  {
   "cell_type": "code",
   "execution_count": 114,
   "id": "be6b5506",
   "metadata": {},
   "outputs": [
    {
     "name": "stdout",
     "output_type": "stream",
     "text": [
      "[]\n"
     ]
    }
   ],
   "source": [
    "print(a)"
   ]
  },
  {
   "cell_type": "code",
   "execution_count": 115,
   "id": "a1166082",
   "metadata": {},
   "outputs": [],
   "source": [
    "# empty list"
   ]
  },
  {
   "cell_type": "code",
   "execution_count": 119,
   "id": "e5d0e7cd",
   "metadata": {},
   "outputs": [
    {
     "name": "stdout",
     "output_type": "stream",
     "text": [
      "()\n",
      "<class 'tuple'>\n"
     ]
    }
   ],
   "source": [
    "d = ()\n",
    "print(d)\n",
    "print(type(d))"
   ]
  },
  {
   "cell_type": "code",
   "execution_count": 120,
   "id": "452b1b39",
   "metadata": {},
   "outputs": [
    {
     "name": "stdout",
     "output_type": "stream",
     "text": [
      "<class 'list'>\n"
     ]
    }
   ],
   "source": [
    "print(type(a))"
   ]
  },
  {
   "cell_type": "code",
   "execution_count": 121,
   "id": "d1a09cce",
   "metadata": {},
   "outputs": [
    {
     "name": "stdout",
     "output_type": "stream",
     "text": [
      "[]\n"
     ]
    }
   ],
   "source": [
    "print(a)"
   ]
  },
  {
   "cell_type": "code",
   "execution_count": 122,
   "id": "58c0c6d0",
   "metadata": {},
   "outputs": [
    {
     "name": "stdout",
     "output_type": "stream",
     "text": [
      "[3, 23, 42, 14, 346325]\n"
     ]
    }
   ],
   "source": [
    "a = [3,23,42,14,346325]\n",
    "print(a)"
   ]
  },
  {
   "cell_type": "code",
   "execution_count": 123,
   "id": "f54702cd",
   "metadata": {},
   "outputs": [],
   "source": [
    "ravi = [12,43,5,235]\n",
    "\n",
    "roshan = ravi"
   ]
  },
  {
   "cell_type": "code",
   "execution_count": 124,
   "id": "963acc27",
   "metadata": {},
   "outputs": [
    {
     "name": "stdout",
     "output_type": "stream",
     "text": [
      "[12, 43, 5, 235]\n"
     ]
    }
   ],
   "source": [
    "print(roshan)"
   ]
  },
  {
   "cell_type": "code",
   "execution_count": 125,
   "id": "36f45db0",
   "metadata": {},
   "outputs": [
    {
     "name": "stdout",
     "output_type": "stream",
     "text": [
      "[12, 43, 5, 235]\n"
     ]
    }
   ],
   "source": [
    "print(ravi)"
   ]
  },
  {
   "cell_type": "code",
   "execution_count": 126,
   "id": "16cb8093",
   "metadata": {},
   "outputs": [],
   "source": [
    "roshan.append(123423456)"
   ]
  },
  {
   "cell_type": "code",
   "execution_count": 127,
   "id": "6ef467f3",
   "metadata": {},
   "outputs": [
    {
     "name": "stdout",
     "output_type": "stream",
     "text": [
      "[12, 43, 5, 235, 123423456]\n"
     ]
    }
   ],
   "source": [
    "print(roshan)"
   ]
  },
  {
   "cell_type": "code",
   "execution_count": 128,
   "id": "29c47e05",
   "metadata": {},
   "outputs": [
    {
     "name": "stdout",
     "output_type": "stream",
     "text": [
      "[12, 43, 5, 235, 123423456]\n"
     ]
    }
   ],
   "source": [
    "print(ravi)"
   ]
  },
  {
   "cell_type": "code",
   "execution_count": 129,
   "id": "eb06bcf4",
   "metadata": {},
   "outputs": [],
   "source": [
    "# deep copy:- "
   ]
  },
  {
   "cell_type": "code",
   "execution_count": 130,
   "id": "5f8f8cc1",
   "metadata": {},
   "outputs": [],
   "source": [
    "akshay = [12,43,452,3,5]\n",
    "\n",
    "salman = akshay.copy()"
   ]
  },
  {
   "cell_type": "code",
   "execution_count": null,
   "id": "cea0fbcf",
   "metadata": {},
   "outputs": [],
   "source": []
  },
  {
   "cell_type": "code",
   "execution_count": 131,
   "id": "ee209a1d",
   "metadata": {},
   "outputs": [
    {
     "name": "stdout",
     "output_type": "stream",
     "text": [
      "[12, 43, 452, 3, 5]\n"
     ]
    }
   ],
   "source": [
    "print(salman)"
   ]
  },
  {
   "cell_type": "code",
   "execution_count": 132,
   "id": "7507f83f",
   "metadata": {},
   "outputs": [
    {
     "name": "stdout",
     "output_type": "stream",
     "text": [
      "[12, 43, 452, 3, 5]\n"
     ]
    }
   ],
   "source": [
    "print(akshay)"
   ]
  },
  {
   "cell_type": "code",
   "execution_count": 133,
   "id": "e0153024",
   "metadata": {},
   "outputs": [],
   "source": [
    "akshay.append(23456)"
   ]
  },
  {
   "cell_type": "code",
   "execution_count": 134,
   "id": "74739f71",
   "metadata": {},
   "outputs": [
    {
     "name": "stdout",
     "output_type": "stream",
     "text": [
      "[12, 43, 452, 3, 5, 23456]\n"
     ]
    }
   ],
   "source": [
    "print(akshay)"
   ]
  },
  {
   "cell_type": "code",
   "execution_count": 135,
   "id": "a764306a",
   "metadata": {},
   "outputs": [
    {
     "name": "stdout",
     "output_type": "stream",
     "text": [
      "[12, 43, 452, 3, 5]\n"
     ]
    }
   ],
   "source": [
    "print(salman)"
   ]
  },
  {
   "cell_type": "code",
   "execution_count": 137,
   "id": "0f4288f6",
   "metadata": {},
   "outputs": [
    {
     "name": "stdout",
     "output_type": "stream",
     "text": [
      "[12, 43, 2, 2, 2, 2, 2, 2, 2, 3, 3, 3, 3, 3, 3, 44, 4, 4, 4, 4, 5, 5, 5, 5, 5, 5, 6, 6, 66, 6]\n"
     ]
    }
   ],
   "source": [
    "a = [12,43,2,2,2,2,2,2,2,3,3,3,3,3,3,44,4,4,4,4,5,5,5,5,5,5,6,6,66,6]\n",
    "\n",
    "print(a)"
   ]
  },
  {
   "cell_type": "code",
   "execution_count": 139,
   "id": "c3ce2312",
   "metadata": {},
   "outputs": [
    {
     "data": {
      "text/plain": [
       "7"
      ]
     },
     "execution_count": 139,
     "metadata": {},
     "output_type": "execute_result"
    }
   ],
   "source": [
    "a.count(2)"
   ]
  },
  {
   "cell_type": "code",
   "execution_count": 140,
   "id": "7fc88b3f",
   "metadata": {},
   "outputs": [
    {
     "data": {
      "text/plain": [
       "6"
      ]
     },
     "execution_count": 140,
     "metadata": {},
     "output_type": "execute_result"
    }
   ],
   "source": [
    "a.count(5)"
   ]
  },
  {
   "cell_type": "code",
   "execution_count": 141,
   "id": "ee68a6a9",
   "metadata": {},
   "outputs": [
    {
     "data": {
      "text/plain": [
       "0"
      ]
     },
     "execution_count": 141,
     "metadata": {},
     "output_type": "execute_result"
    }
   ],
   "source": [
    "a.count('karan')"
   ]
  },
  {
   "cell_type": "code",
   "execution_count": 142,
   "id": "23e9b7d6",
   "metadata": {},
   "outputs": [
    {
     "name": "stdout",
     "output_type": "stream",
     "text": [
      "[12, 435, 42, 143, 45, 35]\n"
     ]
    }
   ],
   "source": [
    "a = [12,435,42,143,45,35]\n",
    "print(a)"
   ]
  },
  {
   "cell_type": "code",
   "execution_count": 143,
   "id": "4a54f513",
   "metadata": {},
   "outputs": [],
   "source": [
    "a.append([1,2,3])"
   ]
  },
  {
   "cell_type": "code",
   "execution_count": 144,
   "id": "81b5a467",
   "metadata": {},
   "outputs": [
    {
     "name": "stdout",
     "output_type": "stream",
     "text": [
      "[12, 435, 42, 143, 45, 35, [1, 2, 3]]\n"
     ]
    }
   ],
   "source": [
    "print(a)"
   ]
  },
  {
   "cell_type": "code",
   "execution_count": 145,
   "id": "86c991ed",
   "metadata": {},
   "outputs": [],
   "source": [
    "s = [1,243,4,123,5]"
   ]
  },
  {
   "cell_type": "code",
   "execution_count": 146,
   "id": "346317d1",
   "metadata": {},
   "outputs": [
    {
     "name": "stdout",
     "output_type": "stream",
     "text": [
      "[1, 243, 4, 123, 5]\n"
     ]
    }
   ],
   "source": [
    "print(s)"
   ]
  },
  {
   "cell_type": "code",
   "execution_count": 147,
   "id": "3f24be69",
   "metadata": {},
   "outputs": [],
   "source": [
    "s.extend([1,2,3])"
   ]
  },
  {
   "cell_type": "code",
   "execution_count": 148,
   "id": "1ba90d59",
   "metadata": {},
   "outputs": [
    {
     "name": "stdout",
     "output_type": "stream",
     "text": [
      "[1, 243, 4, 123, 5, 1, 2, 3]\n"
     ]
    }
   ],
   "source": [
    "print(s)"
   ]
  },
  {
   "cell_type": "code",
   "execution_count": null,
   "id": "1e3d93b9",
   "metadata": {},
   "outputs": [],
   "source": []
  },
  {
   "cell_type": "code",
   "execution_count": null,
   "id": "dee73273",
   "metadata": {},
   "outputs": [],
   "source": []
  },
  {
   "cell_type": "code",
   "execution_count": 149,
   "id": "df53fd21",
   "metadata": {},
   "outputs": [
    {
     "name": "stdout",
     "output_type": "stream",
     "text": [
      "[1, 243, 4, 214, 3462, 34, 32, 54, 5, 3456, 32, 34]\n"
     ]
    }
   ],
   "source": [
    "d = [1,243,4,214,3462,34,32,54,5,3456,32,34]\n",
    "\n",
    "\n",
    "print(d)"
   ]
  },
  {
   "cell_type": "code",
   "execution_count": 150,
   "id": "62294130",
   "metadata": {},
   "outputs": [
    {
     "data": {
      "text/plain": [
       "7"
      ]
     },
     "execution_count": 150,
     "metadata": {},
     "output_type": "execute_result"
    }
   ],
   "source": [
    "d.index(54)"
   ]
  },
  {
   "cell_type": "code",
   "execution_count": 156,
   "id": "3f29c895",
   "metadata": {},
   "outputs": [],
   "source": [
    "s = [23,4,423,45,32,45,65,45,545,67,6543,56,23]"
   ]
  },
  {
   "cell_type": "code",
   "execution_count": 152,
   "id": "b147611e",
   "metadata": {},
   "outputs": [
    {
     "data": {
      "text/plain": [
       "3"
      ]
     },
     "execution_count": 152,
     "metadata": {},
     "output_type": "execute_result"
    }
   ],
   "source": [
    "s.index(45)"
   ]
  },
  {
   "cell_type": "code",
   "execution_count": 153,
   "id": "de6d45fd",
   "metadata": {},
   "outputs": [
    {
     "data": {
      "text/plain": [
       "5"
      ]
     },
     "execution_count": 153,
     "metadata": {},
     "output_type": "execute_result"
    }
   ],
   "source": [
    "s.index(45,4)"
   ]
  },
  {
   "cell_type": "code",
   "execution_count": 154,
   "id": "ee018e62",
   "metadata": {},
   "outputs": [
    {
     "data": {
      "text/plain": [
       "7"
      ]
     },
     "execution_count": 154,
     "metadata": {},
     "output_type": "execute_result"
    }
   ],
   "source": [
    "s.index(45,6)"
   ]
  },
  {
   "cell_type": "code",
   "execution_count": 155,
   "id": "0d26fd91",
   "metadata": {},
   "outputs": [
    {
     "ename": "ValueError",
     "evalue": "45 is not in list",
     "output_type": "error",
     "traceback": [
      "\u001b[1;31m---------------------------------------------------------------------------\u001b[0m",
      "\u001b[1;31mValueError\u001b[0m                                Traceback (most recent call last)",
      "Cell \u001b[1;32mIn[155], line 1\u001b[0m\n\u001b[1;32m----> 1\u001b[0m s\u001b[38;5;241m.\u001b[39mindex(\u001b[38;5;241m45\u001b[39m,\u001b[38;5;241m8\u001b[39m)\n",
      "\u001b[1;31mValueError\u001b[0m: 45 is not in list"
     ]
    }
   ],
   "source": [
    "s.index(45,8)"
   ]
  },
  {
   "cell_type": "code",
   "execution_count": 157,
   "id": "f64ce274",
   "metadata": {},
   "outputs": [
    {
     "data": {
      "text/plain": [
       "[23, 4, 423, 45, 32, 45, 65, 45, 545, 67, 6543, 56, 23]"
      ]
     },
     "execution_count": 157,
     "metadata": {},
     "output_type": "execute_result"
    }
   ],
   "source": [
    "s"
   ]
  },
  {
   "cell_type": "code",
   "execution_count": 158,
   "id": "af0da706",
   "metadata": {},
   "outputs": [
    {
     "data": {
      "text/plain": [
       "0"
      ]
     },
     "execution_count": 158,
     "metadata": {},
     "output_type": "execute_result"
    }
   ],
   "source": [
    "s.index(23)"
   ]
  },
  {
   "cell_type": "code",
   "execution_count": 159,
   "id": "3a101a36",
   "metadata": {},
   "outputs": [
    {
     "data": {
      "text/plain": [
       "12"
      ]
     },
     "execution_count": 159,
     "metadata": {},
     "output_type": "execute_result"
    }
   ],
   "source": [
    "s.index(23,1)"
   ]
  },
  {
   "cell_type": "code",
   "execution_count": 161,
   "id": "0da7cda0",
   "metadata": {},
   "outputs": [],
   "source": [
    "s[12] = 23456"
   ]
  },
  {
   "cell_type": "code",
   "execution_count": 162,
   "id": "940fe9b6",
   "metadata": {},
   "outputs": [
    {
     "name": "stdout",
     "output_type": "stream",
     "text": [
      "[23, 4, 423, 45, 32, 45, 65, 45, 545, 67, 6543, 56, 23456]\n"
     ]
    }
   ],
   "source": [
    "print(s)"
   ]
  },
  {
   "cell_type": "code",
   "execution_count": 163,
   "id": "494cd206",
   "metadata": {},
   "outputs": [
    {
     "name": "stdout",
     "output_type": "stream",
     "text": [
      "[2, 34, 23, 4, 564]\n"
     ]
    }
   ],
   "source": [
    "a = [2,34,23,4,564]\n",
    "\n",
    "print(a)"
   ]
  },
  {
   "cell_type": "code",
   "execution_count": 164,
   "id": "1bdfb819",
   "metadata": {},
   "outputs": [],
   "source": [
    "a.insert(0,'Python')"
   ]
  },
  {
   "cell_type": "code",
   "execution_count": 165,
   "id": "bdda6488",
   "metadata": {},
   "outputs": [
    {
     "name": "stdout",
     "output_type": "stream",
     "text": [
      "['Python', 2, 34, 23, 4, 564]\n"
     ]
    }
   ],
   "source": [
    "print(a)"
   ]
  },
  {
   "cell_type": "code",
   "execution_count": 166,
   "id": "4e2cf9a5",
   "metadata": {},
   "outputs": [
    {
     "data": {
      "text/plain": [
       "3"
      ]
     },
     "execution_count": 166,
     "metadata": {},
     "output_type": "execute_result"
    }
   ],
   "source": [
    "a.index(23)"
   ]
  },
  {
   "cell_type": "code",
   "execution_count": 167,
   "id": "f56703e0",
   "metadata": {},
   "outputs": [],
   "source": [
    "a.insert(3,'Java')"
   ]
  },
  {
   "cell_type": "code",
   "execution_count": 168,
   "id": "51854b9a",
   "metadata": {},
   "outputs": [
    {
     "name": "stdout",
     "output_type": "stream",
     "text": [
      "['Python', 2, 34, 'Java', 23, 4, 564]\n"
     ]
    }
   ],
   "source": [
    "print(a)"
   ]
  },
  {
   "cell_type": "code",
   "execution_count": 169,
   "id": "162395a0",
   "metadata": {},
   "outputs": [
    {
     "data": {
      "text/plain": [
       "['Python', 2, 34, 'Java', 23, 4, 564]"
      ]
     },
     "execution_count": 169,
     "metadata": {},
     "output_type": "execute_result"
    }
   ],
   "source": [
    "a"
   ]
  },
  {
   "cell_type": "code",
   "execution_count": 171,
   "id": "0cfe133d",
   "metadata": {},
   "outputs": [
    {
     "data": {
      "text/plain": [
       "4"
      ]
     },
     "execution_count": 171,
     "metadata": {},
     "output_type": "execute_result"
    }
   ],
   "source": [
    "a.pop()"
   ]
  },
  {
   "cell_type": "code",
   "execution_count": 172,
   "id": "654fd3c5",
   "metadata": {},
   "outputs": [
    {
     "name": "stdout",
     "output_type": "stream",
     "text": [
      "['Python', 2, 34, 'Java', 23]\n"
     ]
    }
   ],
   "source": [
    "print(a)"
   ]
  },
  {
   "cell_type": "code",
   "execution_count": 173,
   "id": "f64e7c7d",
   "metadata": {},
   "outputs": [
    {
     "data": {
      "text/plain": [
       "'Java'"
      ]
     },
     "execution_count": 173,
     "metadata": {},
     "output_type": "execute_result"
    }
   ],
   "source": [
    "a.pop(-2)"
   ]
  },
  {
   "cell_type": "code",
   "execution_count": 174,
   "id": "f1a1575d",
   "metadata": {},
   "outputs": [
    {
     "name": "stdout",
     "output_type": "stream",
     "text": [
      "['Python', 2, 34, 23]\n"
     ]
    }
   ],
   "source": [
    "print(a)"
   ]
  },
  {
   "cell_type": "code",
   "execution_count": 180,
   "id": "f573a9e2",
   "metadata": {},
   "outputs": [],
   "source": [
    "students = ['karan','ravi','','','Ajay','Mohit']"
   ]
  },
  {
   "cell_type": "code",
   "execution_count": 181,
   "id": "3d3a68d3",
   "metadata": {},
   "outputs": [
    {
     "data": {
      "text/plain": [
       "['karan', 'ravi', '', '', 'Ajay', 'Mohit']"
      ]
     },
     "execution_count": 181,
     "metadata": {},
     "output_type": "execute_result"
    }
   ],
   "source": [
    "students"
   ]
  },
  {
   "cell_type": "code",
   "execution_count": 183,
   "id": "26f38060",
   "metadata": {},
   "outputs": [],
   "source": [
    "students.remove('')"
   ]
  },
  {
   "cell_type": "code",
   "execution_count": 184,
   "id": "3960de01",
   "metadata": {},
   "outputs": [
    {
     "name": "stdout",
     "output_type": "stream",
     "text": [
      "['karan', 'ravi', 'Ajay', 'Mohit']\n"
     ]
    }
   ],
   "source": [
    "print(students)"
   ]
  },
  {
   "cell_type": "code",
   "execution_count": 185,
   "id": "2df9c0fd",
   "metadata": {},
   "outputs": [],
   "source": [
    "a = [23,4,2,45,67,5463467]\n",
    "\n",
    "a.remove(67)"
   ]
  },
  {
   "cell_type": "code",
   "execution_count": 186,
   "id": "b5606924",
   "metadata": {},
   "outputs": [
    {
     "name": "stdout",
     "output_type": "stream",
     "text": [
      "[23, 4, 2, 45, 5463467]\n"
     ]
    }
   ],
   "source": [
    "print(a)"
   ]
  },
  {
   "cell_type": "code",
   "execution_count": 187,
   "id": "7b09fd81",
   "metadata": {},
   "outputs": [
    {
     "name": "stdout",
     "output_type": "stream",
     "text": [
      "[1, 2345, 343, 1234, 57]\n"
     ]
    }
   ],
   "source": [
    "a = [1,2345,343,1234,57]\n",
    "\n",
    "print(a)"
   ]
  },
  {
   "cell_type": "code",
   "execution_count": 188,
   "id": "1d74aedc",
   "metadata": {},
   "outputs": [
    {
     "data": {
      "text/plain": [
       "[57, 1234, 343, 2345, 1]"
      ]
     },
     "execution_count": 188,
     "metadata": {},
     "output_type": "execute_result"
    }
   ],
   "source": [
    "a[::-1]"
   ]
  },
  {
   "cell_type": "code",
   "execution_count": 189,
   "id": "fd10f140",
   "metadata": {},
   "outputs": [
    {
     "name": "stdout",
     "output_type": "stream",
     "text": [
      "[1, 2345, 343, 1234, 57]\n"
     ]
    }
   ],
   "source": [
    "b =  [1,2345,343,1234,57]\n",
    "print(b)"
   ]
  },
  {
   "cell_type": "code",
   "execution_count": 190,
   "id": "040fd984",
   "metadata": {},
   "outputs": [],
   "source": [
    "b.reverse()"
   ]
  },
  {
   "cell_type": "code",
   "execution_count": 191,
   "id": "638c875d",
   "metadata": {},
   "outputs": [
    {
     "name": "stdout",
     "output_type": "stream",
     "text": [
      "[57, 1234, 343, 2345, 1]\n"
     ]
    }
   ],
   "source": [
    "print(b)"
   ]
  },
  {
   "cell_type": "code",
   "execution_count": null,
   "id": "21c25449",
   "metadata": {},
   "outputs": [],
   "source": []
  },
  {
   "cell_type": "code",
   "execution_count": null,
   "id": "fce2ae45",
   "metadata": {},
   "outputs": [],
   "source": []
  },
  {
   "cell_type": "code",
   "execution_count": 192,
   "id": "1bb143c9",
   "metadata": {},
   "outputs": [],
   "source": [
    "sales = [34,235,434,234,567,65,4323,34,56,7,7,434,245,5,4324,3456]"
   ]
  },
  {
   "cell_type": "code",
   "execution_count": 193,
   "id": "f8bcc864",
   "metadata": {},
   "outputs": [
    {
     "name": "stdout",
     "output_type": "stream",
     "text": [
      "[34, 235, 434, 234, 567, 65, 4323, 34, 56, 7, 7, 434, 245, 5, 4324, 3456]\n"
     ]
    }
   ],
   "source": [
    "print(sales)"
   ]
  },
  {
   "cell_type": "code",
   "execution_count": 194,
   "id": "4707be7e",
   "metadata": {},
   "outputs": [],
   "source": [
    "sales.sort()"
   ]
  },
  {
   "cell_type": "code",
   "execution_count": 195,
   "id": "9d677e41",
   "metadata": {},
   "outputs": [
    {
     "name": "stdout",
     "output_type": "stream",
     "text": [
      "[5, 7, 7, 34, 34, 56, 65, 234, 235, 245, 434, 434, 567, 3456, 4323, 4324]\n"
     ]
    }
   ],
   "source": [
    "print(sales)"
   ]
  },
  {
   "cell_type": "code",
   "execution_count": 196,
   "id": "295fddb9",
   "metadata": {},
   "outputs": [
    {
     "name": "stdout",
     "output_type": "stream",
     "text": [
      "[34, 235, 434, 234, 567, 65, 4323, 34, 56, 7, 7, 434, 245, 5, 4324, 3456]\n"
     ]
    }
   ],
   "source": [
    "sales = [34,235,434,234,567,65,4323,34,56,7,7,434,245,5,4324,3456]\n",
    "\n",
    "print(sales)"
   ]
  },
  {
   "cell_type": "code",
   "execution_count": 197,
   "id": "c35b43f5",
   "metadata": {},
   "outputs": [],
   "source": [
    "sales.sort(reverse=True)"
   ]
  },
  {
   "cell_type": "code",
   "execution_count": 198,
   "id": "f2c5316d",
   "metadata": {},
   "outputs": [
    {
     "name": "stdout",
     "output_type": "stream",
     "text": [
      "[4324, 4323, 3456, 567, 434, 434, 245, 235, 234, 65, 56, 34, 34, 7, 7, 5]\n"
     ]
    }
   ],
   "source": [
    "print(sales)"
   ]
  },
  {
   "cell_type": "code",
   "execution_count": null,
   "id": "f52e632d",
   "metadata": {},
   "outputs": [],
   "source": []
  },
  {
   "cell_type": "code",
   "execution_count": null,
   "id": "ee7b7b91",
   "metadata": {},
   "outputs": [],
   "source": []
  },
  {
   "cell_type": "code",
   "execution_count": 199,
   "id": "b7ac931b",
   "metadata": {},
   "outputs": [
    {
     "name": "stdout",
     "output_type": "stream",
     "text": [
      "[12, 3, 4, 421, 345, 65, 6]\n"
     ]
    }
   ],
   "source": [
    "data = [12,3,4,421,345,65,6]\n",
    "\n",
    "print(data)"
   ]
  },
  {
   "cell_type": "code",
   "execution_count": 201,
   "id": "9d79943a",
   "metadata": {},
   "outputs": [
    {
     "data": {
      "text/plain": [
       "[6, 65, 345, 421, 4, 3, 12]"
      ]
     },
     "execution_count": 201,
     "metadata": {},
     "output_type": "execute_result"
    }
   ],
   "source": [
    "list(reversed(data))"
   ]
  },
  {
   "cell_type": "code",
   "execution_count": 202,
   "id": "13ae733f",
   "metadata": {},
   "outputs": [],
   "source": [
    "data = [345,123,4,4321,344,567,75,432,43,456,78]"
   ]
  },
  {
   "cell_type": "code",
   "execution_count": 203,
   "id": "817f8079",
   "metadata": {},
   "outputs": [
    {
     "data": {
      "text/plain": [
       "6788"
      ]
     },
     "execution_count": 203,
     "metadata": {},
     "output_type": "execute_result"
    }
   ],
   "source": [
    "sum(data)"
   ]
  },
  {
   "cell_type": "code",
   "execution_count": 204,
   "id": "7a0583ab",
   "metadata": {},
   "outputs": [
    {
     "data": {
      "text/plain": [
       "4"
      ]
     },
     "execution_count": 204,
     "metadata": {},
     "output_type": "execute_result"
    }
   ],
   "source": [
    "min(data)"
   ]
  },
  {
   "cell_type": "code",
   "execution_count": 205,
   "id": "0bb5b3ca",
   "metadata": {},
   "outputs": [
    {
     "data": {
      "text/plain": [
       "4321"
      ]
     },
     "execution_count": 205,
     "metadata": {},
     "output_type": "execute_result"
    }
   ],
   "source": [
    "max(data)"
   ]
  },
  {
   "cell_type": "code",
   "execution_count": null,
   "id": "bca7c71e",
   "metadata": {},
   "outputs": [],
   "source": []
  },
  {
   "cell_type": "markdown",
   "id": "58659baf",
   "metadata": {},
   "source": [
    "# Tuple methods"
   ]
  },
  {
   "cell_type": "code",
   "execution_count": 206,
   "id": "a64c5578",
   "metadata": {},
   "outputs": [],
   "source": [
    "# list:- 11\n",
    "# str:- 47\n",
    "# tuple:- 2"
   ]
  },
  {
   "cell_type": "code",
   "execution_count": 207,
   "id": "6e8b67e9",
   "metadata": {},
   "outputs": [
    {
     "name": "stdout",
     "output_type": "stream",
     "text": [
      "(12, 34, 42, 3, 4, 2, 56)\n"
     ]
    }
   ],
   "source": [
    "s = (12,34,42,3,4,2,56)\n",
    "\n",
    "print(s)"
   ]
  },
  {
   "cell_type": "code",
   "execution_count": 208,
   "id": "c26016ca",
   "metadata": {},
   "outputs": [
    {
     "name": "stdout",
     "output_type": "stream",
     "text": [
      "(1, 1, 1, 1, 1, 2, 2, 2, 2, 2, 2, 3, 3, 3, 3, 3)\n"
     ]
    }
   ],
   "source": [
    "s = (1,1,1,1,1,2,2,2,2,2,2,3,3,3,3,3)\n",
    "\n",
    "\n",
    "print(s)"
   ]
  },
  {
   "cell_type": "code",
   "execution_count": 209,
   "id": "c4345110",
   "metadata": {},
   "outputs": [
    {
     "data": {
      "text/plain": [
       "5"
      ]
     },
     "execution_count": 209,
     "metadata": {},
     "output_type": "execute_result"
    }
   ],
   "source": [
    "s.count(3)"
   ]
  },
  {
   "cell_type": "code",
   "execution_count": 210,
   "id": "7627a83a",
   "metadata": {},
   "outputs": [],
   "source": [
    "d = (1,234,432,132,45,3,124)"
   ]
  },
  {
   "cell_type": "code",
   "execution_count": 211,
   "id": "1985a1f4",
   "metadata": {},
   "outputs": [
    {
     "data": {
      "text/plain": [
       "2"
      ]
     },
     "execution_count": 211,
     "metadata": {},
     "output_type": "execute_result"
    }
   ],
   "source": [
    "d.index(432)"
   ]
  },
  {
   "cell_type": "code",
   "execution_count": 212,
   "id": "c1fa1ba9",
   "metadata": {},
   "outputs": [
    {
     "name": "stdout",
     "output_type": "stream",
     "text": [
      "(1, 234, 21, 3, 4, 2, 43, 5)\n"
     ]
    }
   ],
   "source": [
    "data = 1,234,21,3,4,2,43,5\n",
    "\n",
    "print(data)"
   ]
  },
  {
   "cell_type": "code",
   "execution_count": 213,
   "id": "09e4beab",
   "metadata": {},
   "outputs": [
    {
     "name": "stdout",
     "output_type": "stream",
     "text": [
      "(1, 23, 4, 23, 345)\n"
     ]
    }
   ],
   "source": [
    "data = (1,23,4,23,345)\n",
    "\n",
    "print(data)"
   ]
  },
  {
   "cell_type": "code",
   "execution_count": 214,
   "id": "76f1fb5a",
   "metadata": {},
   "outputs": [
    {
     "name": "stdout",
     "output_type": "stream",
     "text": [
      "<class 'tuple'>\n"
     ]
    }
   ],
   "source": [
    "print(type(data))"
   ]
  },
  {
   "cell_type": "code",
   "execution_count": 216,
   "id": "3422ff4e",
   "metadata": {},
   "outputs": [],
   "source": [
    "ch = [12,344,542,23,5]"
   ]
  },
  {
   "cell_type": "code",
   "execution_count": 217,
   "id": "5df463f8",
   "metadata": {},
   "outputs": [],
   "source": [
    "a,b,c,d,e = ch"
   ]
  },
  {
   "cell_type": "code",
   "execution_count": 219,
   "id": "d5bf6910",
   "metadata": {},
   "outputs": [],
   "source": [
    "# unpacking"
   ]
  },
  {
   "cell_type": "code",
   "execution_count": 220,
   "id": "8ef9cec1",
   "metadata": {},
   "outputs": [
    {
     "name": "stdout",
     "output_type": "stream",
     "text": [
      "23\n"
     ]
    }
   ],
   "source": [
    "print(d)"
   ]
  },
  {
   "cell_type": "code",
   "execution_count": 221,
   "id": "1498f9f5",
   "metadata": {},
   "outputs": [
    {
     "name": "stdout",
     "output_type": "stream",
     "text": [
      "542\n"
     ]
    }
   ],
   "source": [
    "print(c)"
   ]
  },
  {
   "cell_type": "code",
   "execution_count": null,
   "id": "e9730faf",
   "metadata": {},
   "outputs": [],
   "source": []
  }
 ],
 "metadata": {
  "kernelspec": {
   "display_name": "Python 3 (ipykernel)",
   "language": "python",
   "name": "python3"
  },
  "language_info": {
   "codemirror_mode": {
    "name": "ipython",
    "version": 3
   },
   "file_extension": ".py",
   "mimetype": "text/x-python",
   "name": "python",
   "nbconvert_exporter": "python",
   "pygments_lexer": "ipython3",
   "version": "3.11.3"
  }
 },
 "nbformat": 4,
 "nbformat_minor": 5
}
