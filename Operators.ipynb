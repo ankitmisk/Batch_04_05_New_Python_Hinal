{
 "cells": [
  {
   "cell_type": "code",
   "execution_count": 1,
   "id": "3c9a129d",
   "metadata": {},
   "outputs": [],
   "source": [
    "# Arithmetic op\n",
    "# Comparison op/relational op\n",
    "# <,>,<=,>=,!=,=="
   ]
  },
  {
   "cell_type": "code",
   "execution_count": 2,
   "id": "0d1820c5",
   "metadata": {},
   "outputs": [],
   "source": [
    "# Comparison op/relational op\n",
    "# <,>,<=,>=,!=,=="
   ]
  },
  {
   "cell_type": "code",
   "execution_count": 3,
   "id": "72d87053",
   "metadata": {},
   "outputs": [
    {
     "data": {
      "text/plain": [
       "True"
      ]
     },
     "execution_count": 3,
     "metadata": {},
     "output_type": "execute_result"
    }
   ],
   "source": [
    "a = 34\n",
    "b = 45\n",
    "\n",
    "a<b"
   ]
  },
  {
   "cell_type": "code",
   "execution_count": 4,
   "id": "3f51302a",
   "metadata": {},
   "outputs": [
    {
     "data": {
      "text/plain": [
       "True"
      ]
     },
     "execution_count": 4,
     "metadata": {},
     "output_type": "execute_result"
    }
   ],
   "source": [
    "a = 34\n",
    "b = 45\n",
    "\n",
    "a<=b"
   ]
  },
  {
   "cell_type": "code",
   "execution_count": 5,
   "id": "94d8f72c",
   "metadata": {},
   "outputs": [
    {
     "data": {
      "text/plain": [
       "False"
      ]
     },
     "execution_count": 5,
     "metadata": {},
     "output_type": "execute_result"
    }
   ],
   "source": [
    "a = 34\n",
    "b = 45\n",
    "\n",
    "a>b"
   ]
  },
  {
   "cell_type": "code",
   "execution_count": 6,
   "id": "3ab8bde1",
   "metadata": {},
   "outputs": [
    {
     "data": {
      "text/plain": [
       "False"
      ]
     },
     "execution_count": 6,
     "metadata": {},
     "output_type": "execute_result"
    }
   ],
   "source": [
    "a = 34\n",
    "b = 45\n",
    "\n",
    "a>=b"
   ]
  },
  {
   "cell_type": "code",
   "execution_count": 7,
   "id": "b415218e",
   "metadata": {},
   "outputs": [
    {
     "data": {
      "text/plain": [
       "True"
      ]
     },
     "execution_count": 7,
     "metadata": {},
     "output_type": "execute_result"
    }
   ],
   "source": [
    "a = 34\n",
    "b = 45\n",
    "\n",
    "a != b"
   ]
  },
  {
   "cell_type": "code",
   "execution_count": 8,
   "id": "fbec7b0e",
   "metadata": {},
   "outputs": [
    {
     "data": {
      "text/plain": [
       "False"
      ]
     },
     "execution_count": 8,
     "metadata": {},
     "output_type": "execute_result"
    }
   ],
   "source": [
    "a = 34\n",
    "b = 45\n",
    "\n",
    "a == b"
   ]
  },
  {
   "cell_type": "code",
   "execution_count": 9,
   "id": "337cc914",
   "metadata": {},
   "outputs": [
    {
     "name": "stdout",
     "output_type": "stream",
     "text": [
      "True\n"
     ]
    }
   ],
   "source": [
    "a = 45\n",
    "b = 45\n",
    "\n",
    "print(a == b)"
   ]
  },
  {
   "cell_type": "code",
   "execution_count": 10,
   "id": "a2d5d98c",
   "metadata": {},
   "outputs": [],
   "source": [
    "# membership op"
   ]
  },
  {
   "cell_type": "code",
   "execution_count": 11,
   "id": "7230e5e8",
   "metadata": {},
   "outputs": [],
   "source": [
    "# in, not in"
   ]
  },
  {
   "cell_type": "code",
   "execution_count": 12,
   "id": "064f282a",
   "metadata": {},
   "outputs": [
    {
     "name": "stdout",
     "output_type": "stream",
     "text": [
      "['komal', 'ajay', 'ravi', 'akshay', 'nitin']\n"
     ]
    }
   ],
   "source": [
    "students = ['komal','ajay','ravi','akshay','nitin']\n",
    "\n",
    "print(students)"
   ]
  },
  {
   "cell_type": "code",
   "execution_count": 13,
   "id": "ea07d896",
   "metadata": {},
   "outputs": [
    {
     "data": {
      "text/plain": [
       "True"
      ]
     },
     "execution_count": 13,
     "metadata": {},
     "output_type": "execute_result"
    }
   ],
   "source": [
    "'ajay' in students"
   ]
  },
  {
   "cell_type": "code",
   "execution_count": 14,
   "id": "b7bfd927",
   "metadata": {},
   "outputs": [
    {
     "data": {
      "text/plain": [
       "False"
      ]
     },
     "execution_count": 14,
     "metadata": {},
     "output_type": "execute_result"
    }
   ],
   "source": [
    "'jatin' in students"
   ]
  },
  {
   "cell_type": "code",
   "execution_count": 15,
   "id": "8d458f46",
   "metadata": {},
   "outputs": [
    {
     "data": {
      "text/plain": [
       "True"
      ]
     },
     "execution_count": 15,
     "metadata": {},
     "output_type": "execute_result"
    }
   ],
   "source": [
    "'jatin' not in students"
   ]
  },
  {
   "cell_type": "code",
   "execution_count": null,
   "id": "847dea8b",
   "metadata": {},
   "outputs": [],
   "source": []
  },
  {
   "cell_type": "code",
   "execution_count": 16,
   "id": "9268da17",
   "metadata": {},
   "outputs": [],
   "source": [
    "# identity op"
   ]
  },
  {
   "cell_type": "code",
   "execution_count": 17,
   "id": "a93941b4",
   "metadata": {},
   "outputs": [
    {
     "data": {
      "text/plain": [
       "2035047921520"
      ]
     },
     "execution_count": 17,
     "metadata": {},
     "output_type": "execute_result"
    }
   ],
   "source": [
    "a = 'Akshay'\n",
    "b = 'Jatin'\n",
    "\n",
    "id(a)"
   ]
  },
  {
   "cell_type": "code",
   "execution_count": 18,
   "id": "3f0c6ea4",
   "metadata": {},
   "outputs": [
    {
     "data": {
      "text/plain": [
       "2035048606448"
      ]
     },
     "execution_count": 18,
     "metadata": {},
     "output_type": "execute_result"
    }
   ],
   "source": [
    "id(b)"
   ]
  },
  {
   "cell_type": "code",
   "execution_count": 20,
   "id": "bd82be00",
   "metadata": {},
   "outputs": [
    {
     "data": {
      "text/plain": [
       "False"
      ]
     },
     "execution_count": 20,
     "metadata": {},
     "output_type": "execute_result"
    }
   ],
   "source": [
    "a is b"
   ]
  },
  {
   "cell_type": "code",
   "execution_count": 21,
   "id": "76db4731",
   "metadata": {},
   "outputs": [],
   "source": [
    "a = 'lucky'\n",
    "b = 'lucky' "
   ]
  },
  {
   "cell_type": "code",
   "execution_count": 22,
   "id": "4214e846",
   "metadata": {},
   "outputs": [
    {
     "data": {
      "text/plain": [
       "True"
      ]
     },
     "execution_count": 22,
     "metadata": {},
     "output_type": "execute_result"
    }
   ],
   "source": [
    "a is b"
   ]
  },
  {
   "cell_type": "code",
   "execution_count": null,
   "id": "a740916b",
   "metadata": {},
   "outputs": [],
   "source": []
  },
  {
   "cell_type": "code",
   "execution_count": 23,
   "id": "78dca2c4",
   "metadata": {},
   "outputs": [],
   "source": [
    "# arithmetic \n",
    "# comparison/relational\n",
    "# membership\n",
    "# identity\n",
    "# assigment op\n",
    "# logical\n",
    "# bitwise"
   ]
  },
  {
   "cell_type": "code",
   "execution_count": 24,
   "id": "cb4de613",
   "metadata": {},
   "outputs": [
    {
     "name": "stdout",
     "output_type": "stream",
     "text": [
      "86\n"
     ]
    }
   ],
   "source": [
    "maths = 76\n",
    "\n",
    "maths = maths + 10\n",
    "\n",
    "print(maths)\n"
   ]
  },
  {
   "cell_type": "code",
   "execution_count": 25,
   "id": "1e8e80ed",
   "metadata": {},
   "outputs": [
    {
     "name": "stdout",
     "output_type": "stream",
     "text": [
      "10\n"
     ]
    }
   ],
   "source": [
    "# assigment op = \n",
    "\n",
    "a = 10\n",
    "\n",
    "print(a)"
   ]
  },
  {
   "cell_type": "code",
   "execution_count": 26,
   "id": "16b214f3",
   "metadata": {},
   "outputs": [
    {
     "name": "stdout",
     "output_type": "stream",
     "text": [
      "54\n"
     ]
    }
   ],
   "source": [
    "a = 34\n",
    "\n",
    "a  = a + 20\n",
    "print(a)"
   ]
  },
  {
   "cell_type": "code",
   "execution_count": 27,
   "id": "c2e5291a",
   "metadata": {},
   "outputs": [
    {
     "name": "stdout",
     "output_type": "stream",
     "text": [
      "33\n"
     ]
    }
   ],
   "source": [
    "a = 23\n",
    "\n",
    "a+= 10\n",
    "\n",
    "print(a)"
   ]
  },
  {
   "cell_type": "code",
   "execution_count": null,
   "id": "b4c1cacd",
   "metadata": {},
   "outputs": [],
   "source": []
  },
  {
   "cell_type": "code",
   "execution_count": 28,
   "id": "b0742d9b",
   "metadata": {},
   "outputs": [
    {
     "name": "stdout",
     "output_type": "stream",
     "text": [
      "13\n"
     ]
    }
   ],
   "source": [
    "a = 23\n",
    "\n",
    "a-= 10\n",
    "\n",
    "print(a)"
   ]
  },
  {
   "cell_type": "code",
   "execution_count": 29,
   "id": "ba631a43",
   "metadata": {},
   "outputs": [
    {
     "name": "stdout",
     "output_type": "stream",
     "text": [
      "230\n"
     ]
    }
   ],
   "source": [
    "a = 23\n",
    "\n",
    "a*= 10\n",
    "\n",
    "print(a)"
   ]
  },
  {
   "cell_type": "code",
   "execution_count": 31,
   "id": "74fb7fd4",
   "metadata": {},
   "outputs": [
    {
     "name": "stdout",
     "output_type": "stream",
     "text": [
      "2.3\n"
     ]
    }
   ],
   "source": [
    "a = 23\n",
    "\n",
    "a/= 10\n",
    "\n",
    "print(a)"
   ]
  },
  {
   "cell_type": "code",
   "execution_count": 32,
   "id": "1d8bc07f",
   "metadata": {},
   "outputs": [
    {
     "name": "stdout",
     "output_type": "stream",
     "text": [
      "2\n"
     ]
    }
   ],
   "source": [
    "a = 23\n",
    "\n",
    "a//= 10\n",
    "\n",
    "print(a)"
   ]
  },
  {
   "cell_type": "code",
   "execution_count": 33,
   "id": "72439da2",
   "metadata": {},
   "outputs": [
    {
     "name": "stdout",
     "output_type": "stream",
     "text": [
      "3\n"
     ]
    }
   ],
   "source": [
    "a = 23\n",
    "\n",
    "a%= 10\n",
    "\n",
    "print(a)"
   ]
  },
  {
   "cell_type": "code",
   "execution_count": 34,
   "id": "0e4b03ff",
   "metadata": {},
   "outputs": [
    {
     "name": "stdout",
     "output_type": "stream",
     "text": [
      "400\n"
     ]
    }
   ],
   "source": [
    "a = 20\n",
    "\n",
    "a**= 2\n",
    "\n",
    "print(a)"
   ]
  },
  {
   "cell_type": "code",
   "execution_count": 36,
   "id": "3863a0bd",
   "metadata": {},
   "outputs": [],
   "source": [
    "# logical op"
   ]
  },
  {
   "cell_type": "code",
   "execution_count": 37,
   "id": "ace3558a",
   "metadata": {},
   "outputs": [],
   "source": [
    "# and, or, not"
   ]
  },
  {
   "cell_type": "code",
   "execution_count": 38,
   "id": "dfb2ebdc",
   "metadata": {},
   "outputs": [],
   "source": [
    "trip = 'nepal'\n",
    "\n",
    "budget = 20000\n"
   ]
  },
  {
   "cell_type": "code",
   "execution_count": 40,
   "id": "3c52b544",
   "metadata": {},
   "outputs": [
    {
     "data": {
      "text/plain": [
       "False"
      ]
     },
     "execution_count": 40,
     "metadata": {},
     "output_type": "execute_result"
    }
   ],
   "source": [
    "(trip == 'nepal') and (budget == 30000)\n",
    "#     T                     F"
   ]
  },
  {
   "cell_type": "code",
   "execution_count": 41,
   "id": "c23d5fd2",
   "metadata": {},
   "outputs": [
    {
     "data": {
      "text/plain": [
       "True"
      ]
     },
     "execution_count": 41,
     "metadata": {},
     "output_type": "execute_result"
    }
   ],
   "source": [
    "(trip == 'nepal') and (budget != 30000)\n",
    "#     T                     T"
   ]
  },
  {
   "cell_type": "code",
   "execution_count": 42,
   "id": "716a2030",
   "metadata": {},
   "outputs": [
    {
     "data": {
      "text/plain": [
       "True"
      ]
     },
     "execution_count": 42,
     "metadata": {},
     "output_type": "execute_result"
    }
   ],
   "source": [
    "(trip == 'nepal') or (budget != 30000)\n",
    "#     T                     T"
   ]
  },
  {
   "cell_type": "code",
   "execution_count": 43,
   "id": "6ad8971d",
   "metadata": {},
   "outputs": [
    {
     "data": {
      "text/plain": [
       "False"
      ]
     },
     "execution_count": 43,
     "metadata": {},
     "output_type": "execute_result"
    }
   ],
   "source": [
    "(trip != 'nepal') or (budget == 30000)\n",
    "#     F                     F"
   ]
  },
  {
   "cell_type": "code",
   "execution_count": null,
   "id": "5ca8e3a1",
   "metadata": {},
   "outputs": [],
   "source": []
  },
  {
   "cell_type": "code",
   "execution_count": 44,
   "id": "f5a952cc",
   "metadata": {},
   "outputs": [
    {
     "data": {
      "text/plain": [
       "True"
      ]
     },
     "execution_count": 44,
     "metadata": {},
     "output_type": "execute_result"
    }
   ],
   "source": [
    "(trip != 'nepal') or (budget == 20000)\n",
    "#     F                     T"
   ]
  },
  {
   "cell_type": "code",
   "execution_count": null,
   "id": "c5d6d109",
   "metadata": {},
   "outputs": [],
   "source": []
  },
  {
   "cell_type": "code",
   "execution_count": null,
   "id": "b24095ac",
   "metadata": {},
   "outputs": [],
   "source": []
  },
  {
   "cell_type": "code",
   "execution_count": 46,
   "id": "b980db6f",
   "metadata": {},
   "outputs": [
    {
     "data": {
      "text/plain": [
       "False"
      ]
     },
     "execution_count": 46,
     "metadata": {},
     "output_type": "execute_result"
    }
   ],
   "source": [
    "not((trip != 'nepal') or (budget == 20000))"
   ]
  },
  {
   "cell_type": "code",
   "execution_count": 47,
   "id": "490e9fd2",
   "metadata": {},
   "outputs": [
    {
     "data": {
      "text/plain": [
       "True"
      ]
     },
     "execution_count": 47,
     "metadata": {},
     "output_type": "execute_result"
    }
   ],
   "source": [
    "not(not((trip != 'nepal') or (budget == 20000)))"
   ]
  },
  {
   "cell_type": "code",
   "execution_count": null,
   "id": "1835ca93",
   "metadata": {},
   "outputs": [],
   "source": []
  },
  {
   "cell_type": "code",
   "execution_count": 48,
   "id": "7484e03c",
   "metadata": {},
   "outputs": [],
   "source": [
    "# Bitwise op"
   ]
  },
  {
   "cell_type": "code",
   "execution_count": 49,
   "id": "3dfcd027",
   "metadata": {},
   "outputs": [],
   "source": [
    "# 15:- "
   ]
  },
  {
   "cell_type": "code",
   "execution_count": 50,
   "id": "5f89b8e6",
   "metadata": {},
   "outputs": [
    {
     "data": {
      "text/plain": [
       "'0b1111'"
      ]
     },
     "execution_count": 50,
     "metadata": {},
     "output_type": "execute_result"
    }
   ],
   "source": [
    "bin(15)"
   ]
  },
  {
   "cell_type": "code",
   "execution_count": 51,
   "id": "12aaf652",
   "metadata": {},
   "outputs": [
    {
     "data": {
      "text/plain": [
       "'0b1101'"
      ]
     },
     "execution_count": 51,
     "metadata": {},
     "output_type": "execute_result"
    }
   ],
   "source": [
    "bin(13)"
   ]
  },
  {
   "cell_type": "code",
   "execution_count": 52,
   "id": "ad5f099d",
   "metadata": {},
   "outputs": [],
   "source": [
    "# &, |, ^, ~, <<,>>"
   ]
  },
  {
   "cell_type": "code",
   "execution_count": 53,
   "id": "79694a61",
   "metadata": {},
   "outputs": [],
   "source": [
    "# and op:- &"
   ]
  },
  {
   "cell_type": "code",
   "execution_count": 54,
   "id": "34180a07",
   "metadata": {},
   "outputs": [
    {
     "name": "stdout",
     "output_type": "stream",
     "text": [
      "13\n"
     ]
    }
   ],
   "source": [
    "a = 15  #1111\n",
    "b = 13  #1101\n",
    "#        1101\n",
    "\n",
    "print(a & b)"
   ]
  },
  {
   "cell_type": "code",
   "execution_count": 56,
   "id": "cf13eeab",
   "metadata": {},
   "outputs": [
    {
     "data": {
      "text/plain": [
       "'0b10101'"
      ]
     },
     "execution_count": 56,
     "metadata": {},
     "output_type": "execute_result"
    }
   ],
   "source": [
    "bin(21)"
   ]
  },
  {
   "cell_type": "code",
   "execution_count": 57,
   "id": "47078a8a",
   "metadata": {},
   "outputs": [
    {
     "data": {
      "text/plain": [
       "17"
      ]
     },
     "execution_count": 57,
     "metadata": {},
     "output_type": "execute_result"
    }
   ],
   "source": [
    "int('10001',2)"
   ]
  },
  {
   "cell_type": "code",
   "execution_count": 58,
   "id": "5e950dac",
   "metadata": {},
   "outputs": [
    {
     "name": "stdout",
     "output_type": "stream",
     "text": [
      "17\n"
     ]
    }
   ],
   "source": [
    "a = 25  #11001\n",
    "b = 21  #10101\n",
    "#        10001\n",
    "\n",
    "print(a & b)"
   ]
  },
  {
   "cell_type": "code",
   "execution_count": null,
   "id": "9f85bdf5",
   "metadata": {},
   "outputs": [],
   "source": [
    "# or: \n",
    "|"
   ]
  },
  {
   "cell_type": "code",
   "execution_count": 59,
   "id": "4fab22c4",
   "metadata": {},
   "outputs": [
    {
     "data": {
      "text/plain": [
       "29"
      ]
     },
     "execution_count": 59,
     "metadata": {},
     "output_type": "execute_result"
    }
   ],
   "source": [
    "int('11101',2)"
   ]
  },
  {
   "cell_type": "code",
   "execution_count": 60,
   "id": "4b605f4a",
   "metadata": {},
   "outputs": [
    {
     "name": "stdout",
     "output_type": "stream",
     "text": [
      "29\n"
     ]
    }
   ],
   "source": [
    "a = 25  #11001\n",
    "b = 21  #10101\n",
    "#        11101\n",
    "\n",
    "print(a | b)"
   ]
  },
  {
   "cell_type": "code",
   "execution_count": 61,
   "id": "4b7cc2b5",
   "metadata": {},
   "outputs": [
    {
     "data": {
      "text/plain": [
       "12"
      ]
     },
     "execution_count": 61,
     "metadata": {},
     "output_type": "execute_result"
    }
   ],
   "source": [
    "int('01100',2)"
   ]
  },
  {
   "cell_type": "code",
   "execution_count": 62,
   "id": "bd83e5bf",
   "metadata": {},
   "outputs": [
    {
     "name": "stdout",
     "output_type": "stream",
     "text": [
      "12\n"
     ]
    }
   ],
   "source": [
    "# XOR: ^\n",
    "a = 25  #11001\n",
    "b = 21  #10101\n",
    "#        01100\n",
    "\n",
    "print(a ^ b)"
   ]
  },
  {
   "cell_type": "code",
   "execution_count": 63,
   "id": "936f57a8",
   "metadata": {},
   "outputs": [],
   "source": [
    "# not \n",
    "# ~"
   ]
  },
  {
   "cell_type": "code",
   "execution_count": 64,
   "id": "e1281dc4",
   "metadata": {},
   "outputs": [
    {
     "data": {
      "text/plain": [
       "-13"
      ]
     },
     "execution_count": 64,
     "metadata": {},
     "output_type": "execute_result"
    }
   ],
   "source": [
    "a = 12\n",
    "\n",
    "~a"
   ]
  },
  {
   "cell_type": "code",
   "execution_count": 65,
   "id": "52e63502",
   "metadata": {},
   "outputs": [
    {
     "data": {
      "text/plain": [
       "18"
      ]
     },
     "execution_count": 65,
     "metadata": {},
     "output_type": "execute_result"
    }
   ],
   "source": [
    "a = -19\n",
    "~a"
   ]
  },
  {
   "cell_type": "code",
   "execution_count": 66,
   "id": "86807ac8",
   "metadata": {},
   "outputs": [],
   "source": [
    "# << left shift op:- twice the result"
   ]
  },
  {
   "cell_type": "code",
   "execution_count": 67,
   "id": "a439d1e1",
   "metadata": {},
   "outputs": [
    {
     "data": {
      "text/plain": [
       "24"
      ]
     },
     "execution_count": 67,
     "metadata": {},
     "output_type": "execute_result"
    }
   ],
   "source": [
    "a = 12\n",
    "a<<1"
   ]
  },
  {
   "cell_type": "code",
   "execution_count": 70,
   "id": "59287216",
   "metadata": {},
   "outputs": [
    {
     "data": {
      "text/plain": [
       "400"
      ]
     },
     "execution_count": 70,
     "metadata": {},
     "output_type": "execute_result"
    }
   ],
   "source": [
    "a = 25 # 11001\n",
    "\n",
    "a<<4"
   ]
  },
  {
   "cell_type": "code",
   "execution_count": 71,
   "id": "ba9426b2",
   "metadata": {},
   "outputs": [],
   "source": [
    "# << Right shift op:- half the result"
   ]
  },
  {
   "cell_type": "code",
   "execution_count": 78,
   "id": "225a1108",
   "metadata": {},
   "outputs": [
    {
     "data": {
      "text/plain": [
       "0"
      ]
     },
     "execution_count": 78,
     "metadata": {},
     "output_type": "execute_result"
    }
   ],
   "source": [
    "a = 25 # 1100\n",
    "\n",
    "a>>5"
   ]
  },
  {
   "cell_type": "code",
   "execution_count": null,
   "id": "9a223999",
   "metadata": {},
   "outputs": [],
   "source": [
    "# arithmetic \n",
    "# comparison/relational\n",
    "# membership\n",
    "# identity\n",
    "# assigment op\n",
    "# logical\n",
    "# bitwise"
   ]
  },
  {
   "attachments": {
    "2820230302005431.webp": {
     "image/webp": "[encoded data removed]"
    }
   },
   "cell_type": "markdown",
   "id": "812259db",
   "metadata": {},
   "source": [
    "![2820230302005431.webp](attachment:2820230302005431.webp)"
   ]
  },
  {
   "cell_type": "code",
   "execution_count": null,
   "id": "d08319a6",
   "metadata": {},
   "outputs": [],
   "source": []
  },
  {
   "cell_type": "code",
   "execution_count": null,
   "id": "09b4d4d0",
   "metadata": {},
   "outputs": [],
   "source": []
  },
  {
   "cell_type": "markdown",
   "id": "29329caa",
   "metadata": {},
   "source": [
    "# Some important functions "
   ]
  },
  {
   "cell_type": "code",
   "execution_count": 79,
   "id": "6248eb90",
   "metadata": {},
   "outputs": [
    {
     "name": "stdout",
     "output_type": "stream",
     "text": [
      "komal\n"
     ]
    }
   ],
   "source": [
    "name = 'komal'\n",
    "print(name)"
   ]
  },
  {
   "cell_type": "code",
   "execution_count": 80,
   "id": "929057a3",
   "metadata": {},
   "outputs": [
    {
     "name": "stdout",
     "output_type": "stream",
     "text": [
      "Enter your name: Ajay Bagga\n",
      "Ajay Bagga\n"
     ]
    }
   ],
   "source": [
    "your_name = input('Enter your name: ')\n",
    "\n",
    "print(your_name)"
   ]
  },
  {
   "cell_type": "code",
   "execution_count": 83,
   "id": "6429aeb5",
   "metadata": {},
   "outputs": [
    {
     "name": "stdout",
     "output_type": "stream",
     "text": [
      "Enter your name: Jatin\n",
      "Hello Jatin How are you??\n"
     ]
    }
   ],
   "source": [
    "your_name = input('Enter your name: ')\n",
    "\n",
    "print(\"Hello\",your_name,'How are you??')"
   ]
  },
  {
   "cell_type": "code",
   "execution_count": 84,
   "id": "c99975cc",
   "metadata": {},
   "outputs": [],
   "source": [
    "sales = [2,35,4,2354,6,5432,455,6788,7643,545,5678,76,54356,568,1]"
   ]
  },
  {
   "cell_type": "code",
   "execution_count": 85,
   "id": "2ce8862b",
   "metadata": {},
   "outputs": [
    {
     "data": {
      "text/plain": [
       "1"
      ]
     },
     "execution_count": 85,
     "metadata": {},
     "output_type": "execute_result"
    }
   ],
   "source": [
    "min(sales)"
   ]
  },
  {
   "cell_type": "code",
   "execution_count": 86,
   "id": "f625ab2e",
   "metadata": {},
   "outputs": [
    {
     "data": {
      "text/plain": [
       "54356"
      ]
     },
     "execution_count": 86,
     "metadata": {},
     "output_type": "execute_result"
    }
   ],
   "source": [
    "max(sales)"
   ]
  },
  {
   "cell_type": "code",
   "execution_count": 87,
   "id": "ecd76990",
   "metadata": {},
   "outputs": [
    {
     "data": {
      "text/plain": [
       "['komal', 'ajay', 'ravi', 'akshay', 'nitin']"
      ]
     },
     "execution_count": 87,
     "metadata": {},
     "output_type": "execute_result"
    }
   ],
   "source": [
    "students"
   ]
  },
  {
   "cell_type": "code",
   "execution_count": 88,
   "id": "2304baed",
   "metadata": {},
   "outputs": [
    {
     "data": {
      "text/plain": [
       "5"
      ]
     },
     "execution_count": 88,
     "metadata": {},
     "output_type": "execute_result"
    }
   ],
   "source": [
    "len(students)"
   ]
  },
  {
   "cell_type": "code",
   "execution_count": 89,
   "id": "4f5a7539",
   "metadata": {},
   "outputs": [
    {
     "data": {
      "text/plain": [
       "15"
      ]
     },
     "execution_count": 89,
     "metadata": {},
     "output_type": "execute_result"
    }
   ],
   "source": [
    "len(sales)"
   ]
  },
  {
   "cell_type": "code",
   "execution_count": 95,
   "id": "35a5849b",
   "metadata": {},
   "outputs": [
    {
     "name": "stdout",
     "output_type": "stream",
     "text": [
      "34.38\n"
     ]
    }
   ],
   "source": [
    "a = 34.3767\n",
    "\n",
    "\n",
    "print(round(a,2))"
   ]
  },
  {
   "cell_type": "code",
   "execution_count": 97,
   "id": "afb5499a",
   "metadata": {},
   "outputs": [],
   "source": [
    "# chr()"
   ]
  },
  {
   "cell_type": "code",
   "execution_count": 99,
   "id": "05c65677",
   "metadata": {},
   "outputs": [
    {
     "data": {
      "text/plain": [
       "48"
      ]
     },
     "execution_count": 99,
     "metadata": {},
     "output_type": "execute_result"
    }
   ],
   "source": [
    "ord('0')"
   ]
  },
  {
   "cell_type": "code",
   "execution_count": 100,
   "id": "585bb032",
   "metadata": {},
   "outputs": [
    {
     "data": {
      "text/plain": [
       "37"
      ]
     },
     "execution_count": 100,
     "metadata": {},
     "output_type": "execute_result"
    }
   ],
   "source": [
    "ord('%')"
   ]
  },
  {
   "cell_type": "code",
   "execution_count": 101,
   "id": "bca305af",
   "metadata": {},
   "outputs": [
    {
     "data": {
      "text/plain": [
       "'%'"
      ]
     },
     "execution_count": 101,
     "metadata": {},
     "output_type": "execute_result"
    }
   ],
   "source": [
    "chr(37)"
   ]
  },
  {
   "cell_type": "code",
   "execution_count": 102,
   "id": "e65b4ae2",
   "metadata": {},
   "outputs": [],
   "source": [
    "emoji = '🥶'"
   ]
  },
  {
   "cell_type": "code",
   "execution_count": 103,
   "id": "d1477b49",
   "metadata": {},
   "outputs": [
    {
     "data": {
      "text/plain": [
       "129398"
      ]
     },
     "execution_count": 103,
     "metadata": {},
     "output_type": "execute_result"
    }
   ],
   "source": [
    "ord(emoji)"
   ]
  },
  {
   "cell_type": "code",
   "execution_count": 104,
   "id": "fd4bfd07",
   "metadata": {},
   "outputs": [
    {
     "data": {
      "text/plain": [
       "'🥶'"
      ]
     },
     "execution_count": 104,
     "metadata": {},
     "output_type": "execute_result"
    }
   ],
   "source": [
    "chr(129398)"
   ]
  },
  {
   "cell_type": "code",
   "execution_count": 115,
   "id": "58cb0415",
   "metadata": {},
   "outputs": [
    {
     "data": {
      "text/plain": [
       "'🥰'"
      ]
     },
     "execution_count": 115,
     "metadata": {},
     "output_type": "execute_result"
    }
   ],
   "source": [
    "chr(129392)"
   ]
  },
  {
   "cell_type": "code",
   "execution_count": 116,
   "id": "738398b0",
   "metadata": {},
   "outputs": [
    {
     "data": {
      "text/plain": [
       "-34.0"
      ]
     },
     "execution_count": 116,
     "metadata": {},
     "output_type": "execute_result"
    }
   ],
   "source": [
    "eval('12-23*10/5')"
   ]
  },
  {
   "cell_type": "code",
   "execution_count": 119,
   "id": "b9ca7769",
   "metadata": {},
   "outputs": [
    {
     "name": "stdout",
     "output_type": "stream",
     "text": [
      "calculate here: 12-10*90/34\n",
      "-14.470588235294116\n"
     ]
    }
   ],
   "source": [
    "calci = input('calculate here: ')\n",
    "print(eval(calci))"
   ]
  },
  {
   "cell_type": "code",
   "execution_count": 121,
   "id": "87e00b99",
   "metadata": {},
   "outputs": [],
   "source": [
    "# ord\n",
    "# len\n",
    "# id\n",
    "# type\n",
    "# print\n",
    "# min\n",
    "# max\n",
    "# eval\n",
    "# chr\n",
    "# sum"
   ]
  },
  {
   "cell_type": "code",
   "execution_count": 122,
   "id": "16857f17",
   "metadata": {},
   "outputs": [
    {
     "data": {
      "text/plain": [
       "[2, 35, 4, 2354, 6, 5432, 455, 6788, 7643, 545, 5678, 76, 54356, 568, 1]"
      ]
     },
     "execution_count": 122,
     "metadata": {},
     "output_type": "execute_result"
    }
   ],
   "source": [
    "sales"
   ]
  },
  {
   "cell_type": "code",
   "execution_count": 123,
   "id": "2f365b16",
   "metadata": {},
   "outputs": [
    {
     "data": {
      "text/plain": [
       "83943"
      ]
     },
     "execution_count": 123,
     "metadata": {},
     "output_type": "execute_result"
    }
   ],
   "source": [
    "sum(sales)"
   ]
  },
  {
   "cell_type": "code",
   "execution_count": null,
   "id": "298ed3be",
   "metadata": {},
   "outputs": [],
   "source": []
  }
 ],
 "metadata": {
  "kernelspec": {
   "display_name": "Python 3 (ipykernel)",
   "language": "python",
   "name": "python3"
  },
  "language_info": {
   "codemirror_mode": {
    "name": "ipython",
    "version": 3
   },
   "file_extension": ".py",
   "mimetype": "text/x-python",
   "name": "python",
   "nbconvert_exporter": "python",
   "pygments_lexer": "ipython3",
   "version": "3.11.3"
  }
 },
 "nbformat": 4,
 "nbformat_minor": 5
}
