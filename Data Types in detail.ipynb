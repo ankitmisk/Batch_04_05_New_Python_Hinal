{
 "cells": [
  {
   "cell_type": "markdown",
   "id": "eb5c9020",
   "metadata": {},
   "source": [
    "# String Data type"
   ]
  },
  {
   "cell_type": "code",
   "execution_count": 1,
   "id": "0b2f7167",
   "metadata": {},
   "outputs": [
    {
     "name": "stdout",
     "output_type": "stream",
     "text": [
      "Harry is running\n"
     ]
    }
   ],
   "source": [
    "a = \"Harry is running\"\n",
    "\n",
    "print(a)"
   ]
  },
  {
   "cell_type": "code",
   "execution_count": 2,
   "id": "3fd946fc",
   "metadata": {},
   "outputs": [
    {
     "name": "stdout",
     "output_type": "stream",
     "text": [
      "<class 'str'>\n"
     ]
    }
   ],
   "source": [
    "print(type(a))"
   ]
  },
  {
   "cell_type": "code",
   "execution_count": 3,
   "id": "7b3145b8",
   "metadata": {},
   "outputs": [
    {
     "data": {
      "text/plain": [
       "'HARRY IS RUNNING'"
      ]
     },
     "execution_count": 3,
     "metadata": {},
     "output_type": "execute_result"
    }
   ],
   "source": [
    "a.upper()"
   ]
  },
  {
   "cell_type": "code",
   "execution_count": 4,
   "id": "414f4f8b",
   "metadata": {},
   "outputs": [],
   "source": [
    "# methods"
   ]
  },
  {
   "cell_type": "code",
   "execution_count": 5,
   "id": "23466107",
   "metadata": {},
   "outputs": [
    {
     "name": "stdout",
     "output_type": "stream",
     "text": [
      "Python is awesome\n"
     ]
    }
   ],
   "source": [
    "s = 'Python is awesome'\n",
    "print(s)"
   ]
  },
  {
   "cell_type": "code",
   "execution_count": 6,
   "id": "726ee1d1",
   "metadata": {},
   "outputs": [
    {
     "name": "stdout",
     "output_type": "stream",
     "text": [
      "We arre in Noida\n",
      "and we are learning Python\n",
      "Python is Awesome\n"
     ]
    }
   ],
   "source": [
    "data = '''We arre in Noida\n",
    "and we are learning Python\n",
    "Python is Awesome'''\n",
    "\n",
    "print(data)"
   ]
  },
  {
   "cell_type": "code",
   "execution_count": null,
   "id": "0f2d8d3e",
   "metadata": {},
   "outputs": [],
   "source": []
  },
  {
   "cell_type": "code",
   "execution_count": 7,
   "id": "d5867be2",
   "metadata": {},
   "outputs": [
    {
     "name": "stdout",
     "output_type": "stream",
     "text": [
      "We arre in Noida\n",
      "and we are learning Python\n",
      "Python is Awesome\n"
     ]
    }
   ],
   "source": [
    "data = \"\"\"We arre in Noida\n",
    "and we are learning Python\n",
    "Python is Awesome\"\"\"\n",
    "\n",
    "print(data)"
   ]
  },
  {
   "cell_type": "code",
   "execution_count": null,
   "id": "1034d8c7",
   "metadata": {},
   "outputs": [],
   "source": []
  },
  {
   "cell_type": "code",
   "execution_count": 8,
   "id": "a94cbb61",
   "metadata": {},
   "outputs": [
    {
     "ename": "SyntaxError",
     "evalue": "unterminated string literal (detected at line 1) (3724454164.py, line 1)",
     "output_type": "error",
     "traceback": [
      "\u001b[1;36m  Cell \u001b[1;32mIn[8], line 1\u001b[1;36m\u001b[0m\n\u001b[1;33m    data = \"We arre in Noida\u001b[0m\n\u001b[1;37m           ^\u001b[0m\n\u001b[1;31mSyntaxError\u001b[0m\u001b[1;31m:\u001b[0m unterminated string literal (detected at line 1)\n"
     ]
    }
   ],
   "source": [
    "data = \"We arre in Noida\n",
    "and we are learning Python\n",
    "Python is Awesome\"\n",
    "\n",
    "print(data)"
   ]
  },
  {
   "cell_type": "code",
   "execution_count": 9,
   "id": "f84dcb31",
   "metadata": {},
   "outputs": [
    {
     "ename": "SyntaxError",
     "evalue": "unterminated string literal (detected at line 1) (999961550.py, line 1)",
     "output_type": "error",
     "traceback": [
      "\u001b[1;36m  Cell \u001b[1;32mIn[9], line 1\u001b[1;36m\u001b[0m\n\u001b[1;33m    data = 'We arre in Noida\u001b[0m\n\u001b[1;37m           ^\u001b[0m\n\u001b[1;31mSyntaxError\u001b[0m\u001b[1;31m:\u001b[0m unterminated string literal (detected at line 1)\n"
     ]
    }
   ],
   "source": [
    "data = 'We arre in Noida\n",
    "and we are learning Python\n",
    "Python is Awesome'\n",
    "\n",
    "print(data)"
   ]
  },
  {
   "cell_type": "code",
   "execution_count": 10,
   "id": "93f975e9",
   "metadata": {},
   "outputs": [
    {
     "name": "stdout",
     "output_type": "stream",
     "text": [
      "We arre in Noida and \n",
      "we are learning Python \n",
      "Python is Awesome\n"
     ]
    }
   ],
   "source": [
    "data = \"We arre in Noida and \\nwe are learning Python \\nPython is Awesome\"\n",
    "\n",
    "print(data)"
   ]
  },
  {
   "cell_type": "code",
   "execution_count": 12,
   "id": "610587d1",
   "metadata": {},
   "outputs": [
    {
     "name": "stdout",
     "output_type": "stream",
     "text": [
      "We arre in Noida and \n",
      "we are learning Python \n",
      "Python is Awesome\n"
     ]
    }
   ],
   "source": [
    "data = \"We arre in Noida and \\nwe are learning Python \\nPython is Awesome\"\n",
    "\n",
    "print(data)"
   ]
  },
  {
   "cell_type": "code",
   "execution_count": 13,
   "id": "3f3d5e90",
   "metadata": {},
   "outputs": [],
   "source": [
    "# new line/next line"
   ]
  },
  {
   "cell_type": "code",
   "execution_count": 14,
   "id": "96010bec",
   "metadata": {},
   "outputs": [],
   "source": [
    "name = 'Python'\n",
    "#       012345     "
   ]
  },
  {
   "cell_type": "code",
   "execution_count": 16,
   "id": "af7c4a50",
   "metadata": {},
   "outputs": [
    {
     "name": "stdout",
     "output_type": "stream",
     "text": [
      "P\n"
     ]
    }
   ],
   "source": [
    "print(name[0])"
   ]
  },
  {
   "cell_type": "code",
   "execution_count": 17,
   "id": "b95baa79",
   "metadata": {},
   "outputs": [
    {
     "name": "stdout",
     "output_type": "stream",
     "text": [
      "n\n"
     ]
    }
   ],
   "source": [
    "print(name[5])"
   ]
  },
  {
   "cell_type": "code",
   "execution_count": 18,
   "id": "fd612e11",
   "metadata": {},
   "outputs": [
    {
     "name": "stdout",
     "output_type": "stream",
     "text": [
      "t\n"
     ]
    }
   ],
   "source": [
    "print(name[2])"
   ]
  },
  {
   "cell_type": "code",
   "execution_count": 19,
   "id": "2b310a0d",
   "metadata": {},
   "outputs": [],
   "source": [
    "# indexing:- \n",
    "# some basic operation"
   ]
  },
  {
   "cell_type": "code",
   "execution_count": 27,
   "id": "b24574aa",
   "metadata": {},
   "outputs": [],
   "source": [
    "a = 'Harry'\n",
    "b = 'verma'"
   ]
  },
  {
   "cell_type": "code",
   "execution_count": 28,
   "id": "d679fb2f",
   "metadata": {},
   "outputs": [
    {
     "name": "stdout",
     "output_type": "stream",
     "text": [
      "Harry verma\n"
     ]
    }
   ],
   "source": [
    "print(a+' '+b)"
   ]
  },
  {
   "cell_type": "code",
   "execution_count": 29,
   "id": "153087a2",
   "metadata": {},
   "outputs": [
    {
     "data": {
      "text/plain": [
       "'Harry'"
      ]
     },
     "execution_count": 29,
     "metadata": {},
     "output_type": "execute_result"
    }
   ],
   "source": [
    "a"
   ]
  },
  {
   "cell_type": "code",
   "execution_count": 30,
   "id": "1c740953",
   "metadata": {},
   "outputs": [
    {
     "name": "stdout",
     "output_type": "stream",
     "text": [
      "HarryHarryHarryHarryHarry\n"
     ]
    }
   ],
   "source": [
    "print(a*5)"
   ]
  },
  {
   "cell_type": "code",
   "execution_count": 31,
   "id": "60ebec77",
   "metadata": {},
   "outputs": [
    {
     "name": "stdout",
     "output_type": "stream",
     "text": [
      "harry harry harry harry harry \n"
     ]
    }
   ],
   "source": [
    "a = 'harry '\n",
    "print(a*5)"
   ]
  },
  {
   "cell_type": "code",
   "execution_count": 32,
   "id": "9ae4b32e",
   "metadata": {},
   "outputs": [],
   "source": [
    "a = 'Python'"
   ]
  },
  {
   "cell_type": "code",
   "execution_count": 34,
   "id": "16e0bebe",
   "metadata": {},
   "outputs": [
    {
     "name": "stdout",
     "output_type": "stream",
     "text": [
      "t\n"
     ]
    }
   ],
   "source": [
    "print(a[2])"
   ]
  },
  {
   "cell_type": "code",
   "execution_count": 35,
   "id": "7a90f2f2",
   "metadata": {},
   "outputs": [],
   "source": [
    "# slicing"
   ]
  },
  {
   "cell_type": "code",
   "execution_count": 36,
   "id": "c89b30fb",
   "metadata": {},
   "outputs": [
    {
     "data": {
      "text/plain": [
       "'tho'"
      ]
     },
     "execution_count": 36,
     "metadata": {},
     "output_type": "execute_result"
    }
   ],
   "source": [
    "a[2:5]"
   ]
  },
  {
   "cell_type": "code",
   "execution_count": 37,
   "id": "c0491330",
   "metadata": {},
   "outputs": [
    {
     "data": {
      "text/plain": [
       "'th'"
      ]
     },
     "execution_count": 37,
     "metadata": {},
     "output_type": "execute_result"
    }
   ],
   "source": [
    "a[2:4]"
   ]
  },
  {
   "cell_type": "code",
   "execution_count": 38,
   "id": "b1510035",
   "metadata": {},
   "outputs": [
    {
     "name": "stdout",
     "output_type": "stream",
     "text": [
      "Python is Awesome\n"
     ]
    }
   ],
   "source": [
    "a = 'Python is Awesome'\n",
    "\n",
    "print(a)"
   ]
  },
  {
   "cell_type": "code",
   "execution_count": 39,
   "id": "e1c9eb44",
   "metadata": {},
   "outputs": [
    {
     "data": {
      "text/plain": [
       "'Awesome'"
      ]
     },
     "execution_count": 39,
     "metadata": {},
     "output_type": "execute_result"
    }
   ],
   "source": [
    "a[10:]"
   ]
  },
  {
   "cell_type": "code",
   "execution_count": 40,
   "id": "d50749b1",
   "metadata": {},
   "outputs": [
    {
     "data": {
      "text/plain": [
       "'Python'"
      ]
     },
     "execution_count": 40,
     "metadata": {},
     "output_type": "execute_result"
    }
   ],
   "source": [
    "a[0:6]"
   ]
  },
  {
   "cell_type": "code",
   "execution_count": 41,
   "id": "2fd64508",
   "metadata": {},
   "outputs": [
    {
     "data": {
      "text/plain": [
       "'Python'"
      ]
     },
     "execution_count": 41,
     "metadata": {},
     "output_type": "execute_result"
    }
   ],
   "source": [
    "a[:6]"
   ]
  },
  {
   "cell_type": "code",
   "execution_count": 42,
   "id": "35ad2f3f",
   "metadata": {},
   "outputs": [],
   "source": [
    "# negative indexing\n",
    "\n",
    "a = 'harry'\n",
    "#      01234\n",
    "#  -5-4-3-2-1"
   ]
  },
  {
   "cell_type": "code",
   "execution_count": 43,
   "id": "d72aa628",
   "metadata": {},
   "outputs": [
    {
     "data": {
      "text/plain": [
       "'a'"
      ]
     },
     "execution_count": 43,
     "metadata": {},
     "output_type": "execute_result"
    }
   ],
   "source": [
    "a[1]"
   ]
  },
  {
   "cell_type": "code",
   "execution_count": 44,
   "id": "a2636ac7",
   "metadata": {},
   "outputs": [
    {
     "data": {
      "text/plain": [
       "'a'"
      ]
     },
     "execution_count": 44,
     "metadata": {},
     "output_type": "execute_result"
    }
   ],
   "source": [
    "a[-4]"
   ]
  },
  {
   "cell_type": "code",
   "execution_count": 45,
   "id": "f41ff088",
   "metadata": {},
   "outputs": [
    {
     "data": {
      "text/plain": [
       "True"
      ]
     },
     "execution_count": 45,
     "metadata": {},
     "output_type": "execute_result"
    }
   ],
   "source": [
    "a[1] == a[-4]"
   ]
  },
  {
   "cell_type": "code",
   "execution_count": 50,
   "id": "54c50d33",
   "metadata": {},
   "outputs": [
    {
     "data": {
      "text/plain": [
       "'Pto sAeoe'"
      ]
     },
     "execution_count": 50,
     "metadata": {},
     "output_type": "execute_result"
    }
   ],
   "source": [
    "a = 'Python is Awesome'\n",
    "\n",
    "a[::2]"
   ]
  },
  {
   "cell_type": "code",
   "execution_count": 51,
   "id": "d1add161",
   "metadata": {},
   "outputs": [],
   "source": [
    "# a[start:stop:step]"
   ]
  },
  {
   "cell_type": "code",
   "execution_count": 52,
   "id": "6f82fbe1",
   "metadata": {},
   "outputs": [
    {
     "data": {
      "text/plain": [
       "'Ph  em'"
      ]
     },
     "execution_count": 52,
     "metadata": {},
     "output_type": "execute_result"
    }
   ],
   "source": [
    "a[::3]"
   ]
  },
  {
   "cell_type": "code",
   "execution_count": 53,
   "id": "705cd24a",
   "metadata": {},
   "outputs": [],
   "source": [
    "a = 'python'"
   ]
  },
  {
   "cell_type": "code",
   "execution_count": 54,
   "id": "880003da",
   "metadata": {},
   "outputs": [
    {
     "data": {
      "text/plain": [
       "'nohtyp'"
      ]
     },
     "execution_count": 54,
     "metadata": {},
     "output_type": "execute_result"
    }
   ],
   "source": [
    "a[::-1]"
   ]
  },
  {
   "cell_type": "code",
   "execution_count": 55,
   "id": "93dd3558",
   "metadata": {},
   "outputs": [],
   "source": [
    "a = 'nitin'"
   ]
  },
  {
   "cell_type": "code",
   "execution_count": 56,
   "id": "b166ad7e",
   "metadata": {},
   "outputs": [
    {
     "name": "stdout",
     "output_type": "stream",
     "text": [
      "nitin\n"
     ]
    }
   ],
   "source": [
    "print(a)"
   ]
  },
  {
   "cell_type": "code",
   "execution_count": 57,
   "id": "d42c0601",
   "metadata": {},
   "outputs": [
    {
     "data": {
      "text/plain": [
       "'nitin'"
      ]
     },
     "execution_count": 57,
     "metadata": {},
     "output_type": "execute_result"
    }
   ],
   "source": [
    "a[::-1]"
   ]
  },
  {
   "cell_type": "code",
   "execution_count": 58,
   "id": "46a78ae6",
   "metadata": {},
   "outputs": [
    {
     "data": {
      "text/plain": [
       "True"
      ]
     },
     "execution_count": 58,
     "metadata": {},
     "output_type": "execute_result"
    }
   ],
   "source": [
    "a == a[::-1]"
   ]
  },
  {
   "cell_type": "code",
   "execution_count": 59,
   "id": "f748e45e",
   "metadata": {},
   "outputs": [],
   "source": [
    "# palindrome word"
   ]
  },
  {
   "cell_type": "code",
   "execution_count": 60,
   "id": "a317012c",
   "metadata": {},
   "outputs": [],
   "source": [
    "# Methods"
   ]
  },
  {
   "cell_type": "code",
   "execution_count": 63,
   "id": "441299ba",
   "metadata": {},
   "outputs": [],
   "source": [
    "a = 'We are in Noida'"
   ]
  },
  {
   "cell_type": "code",
   "execution_count": 64,
   "id": "b5518aa6",
   "metadata": {},
   "outputs": [
    {
     "name": "stdout",
     "output_type": "stream",
     "text": [
      "WE ARE IN NOIDA\n"
     ]
    }
   ],
   "source": [
    "print(a.upper())"
   ]
  },
  {
   "cell_type": "code",
   "execution_count": 65,
   "id": "8abb77d0",
   "metadata": {},
   "outputs": [],
   "source": [
    "# ctrl + space"
   ]
  },
  {
   "cell_type": "code",
   "execution_count": 66,
   "id": "a5c2e217",
   "metadata": {},
   "outputs": [],
   "source": [
    "# .Tab"
   ]
  },
  {
   "cell_type": "code",
   "execution_count": 67,
   "id": "e045f606",
   "metadata": {},
   "outputs": [
    {
     "name": "stdout",
     "output_type": "stream",
     "text": [
      "['__add__', '__class__', '__contains__', '__delattr__', '__dir__', '__doc__', '__eq__', '__format__', '__ge__', '__getattribute__', '__getitem__', '__getnewargs__', '__getstate__', '__gt__', '__hash__', '__init__', '__init_subclass__', '__iter__', '__le__', '__len__', '__lt__', '__mod__', '__mul__', '__ne__', '__new__', '__reduce__', '__reduce_ex__', '__repr__', '__rmod__', '__rmul__', '__setattr__', '__sizeof__', '__str__', '__subclasshook__', 'capitalize', 'casefold', 'center', 'count', 'encode', 'endswith', 'expandtabs', 'find', 'format', 'format_map', 'index', 'isalnum', 'isalpha', 'isascii', 'isdecimal', 'isdigit', 'isidentifier', 'islower', 'isnumeric', 'isprintable', 'isspace', 'istitle', 'isupper', 'join', 'ljust', 'lower', 'lstrip', 'maketrans', 'partition', 'removeprefix', 'removesuffix', 'replace', 'rfind', 'rindex', 'rjust', 'rpartition', 'rsplit', 'rstrip', 'split', 'splitlines', 'startswith', 'strip', 'swapcase', 'title', 'translate', 'upper', 'zfill']\n"
     ]
    }
   ],
   "source": [
    "print(dir(str))"
   ]
  },
  {
   "cell_type": "code",
   "execution_count": 68,
   "id": "0242eb37",
   "metadata": {},
   "outputs": [],
   "source": [
    "all_methods = ['capitalize', 'casefold', 'center', 'count', 'encode', 'endswith', 'expandtabs', 'find', 'format', 'format_map', 'index', 'isalnum', 'isalpha', 'isascii', 'isdecimal', 'isdigit', 'isidentifier', 'islower', 'isnumeric', 'isprintable', 'isspace', 'istitle', 'isupper', 'join', 'ljust', 'lower', 'lstrip', 'maketrans', 'partition', 'removeprefix', 'removesuffix', 'replace', 'rfind', 'rindex', 'rjust', 'rpartition', 'rsplit', 'rstrip', 'split', 'splitlines', 'startswith', 'strip', 'swapcase', 'title', 'translate', 'upper', 'zfill']"
   ]
  },
  {
   "cell_type": "code",
   "execution_count": 69,
   "id": "bc4fa7dd",
   "metadata": {},
   "outputs": [
    {
     "name": "stdout",
     "output_type": "stream",
     "text": [
      "['capitalize', 'casefold', 'center', 'count', 'encode', 'endswith', 'expandtabs', 'find', 'format', 'format_map', 'index', 'isalnum', 'isalpha', 'isascii', 'isdecimal', 'isdigit', 'isidentifier', 'islower', 'isnumeric', 'isprintable', 'isspace', 'istitle', 'isupper', 'join', 'ljust', 'lower', 'lstrip', 'maketrans', 'partition', 'removeprefix', 'removesuffix', 'replace', 'rfind', 'rindex', 'rjust', 'rpartition', 'rsplit', 'rstrip', 'split', 'splitlines', 'startswith', 'strip', 'swapcase', 'title', 'translate', 'upper', 'zfill']\n"
     ]
    }
   ],
   "source": [
    "print(all_methods)"
   ]
  },
  {
   "cell_type": "code",
   "execution_count": 70,
   "id": "bd073ed8",
   "metadata": {},
   "outputs": [
    {
     "name": "stdout",
     "output_type": "stream",
     "text": [
      "47\n"
     ]
    }
   ],
   "source": [
    "print(len(all_methods))"
   ]
  },
  {
   "cell_type": "code",
   "execution_count": 71,
   "id": "ba1b45c0",
   "metadata": {},
   "outputs": [
    {
     "data": {
      "text/plain": [
       "'Python is awesome'"
      ]
     },
     "execution_count": 71,
     "metadata": {},
     "output_type": "execute_result"
    }
   ],
   "source": [
    "a = 'python is awesome'\n",
    "a.capitalize()"
   ]
  },
  {
   "cell_type": "code",
   "execution_count": 72,
   "id": "caaf7d67",
   "metadata": {},
   "outputs": [
    {
     "data": {
      "text/plain": [
       "'python is awesome'"
      ]
     },
     "execution_count": 72,
     "metadata": {},
     "output_type": "execute_result"
    }
   ],
   "source": [
    "a = 'Python Is AWesome'\n",
    "a.casefold()"
   ]
  },
  {
   "cell_type": "code",
   "execution_count": 81,
   "id": "9e4f23db",
   "metadata": {},
   "outputs": [
    {
     "data": {
      "text/plain": [
       "'*python is awesome*'"
      ]
     },
     "execution_count": 81,
     "metadata": {},
     "output_type": "execute_result"
    }
   ],
   "source": [
    "a = 'python is awesome'\n",
    "a.center(19,'*')"
   ]
  },
  {
   "cell_type": "code",
   "execution_count": null,
   "id": "8d3fb452",
   "metadata": {},
   "outputs": [],
   "source": []
  },
  {
   "cell_type": "code",
   "execution_count": 82,
   "id": "bf6b5ecd",
   "metadata": {},
   "outputs": [
    {
     "data": {
      "text/plain": [
       "'    python is awesome    '"
      ]
     },
     "execution_count": 82,
     "metadata": {},
     "output_type": "execute_result"
    }
   ],
   "source": [
    "a = 'python is awesome'\n",
    "a.center(25,' ')"
   ]
  },
  {
   "cell_type": "code",
   "execution_count": 83,
   "id": "974e4aef",
   "metadata": {},
   "outputs": [
    {
     "data": {
      "text/plain": [
       "'____python is awesome____'"
      ]
     },
     "execution_count": 83,
     "metadata": {},
     "output_type": "execute_result"
    }
   ],
   "source": [
    "a = 'python is awesome'\n",
    "a.center(25,'_')"
   ]
  },
  {
   "cell_type": "code",
   "execution_count": 84,
   "id": "667d0b46",
   "metadata": {},
   "outputs": [
    {
     "data": {
      "text/plain": [
       "2"
      ]
     },
     "execution_count": 84,
     "metadata": {},
     "output_type": "execute_result"
    }
   ],
   "source": [
    "a = 'python is awesome'\n",
    "a.count('e')"
   ]
  },
  {
   "cell_type": "code",
   "execution_count": 85,
   "id": "a722bc71",
   "metadata": {},
   "outputs": [
    {
     "data": {
      "text/plain": [
       "3"
      ]
     },
     "execution_count": 85,
     "metadata": {},
     "output_type": "execute_result"
    }
   ],
   "source": [
    "a = 'this is elon musk'\n",
    "a.count('s')"
   ]
  },
  {
   "cell_type": "code",
   "execution_count": 86,
   "id": "67cb237f",
   "metadata": {},
   "outputs": [
    {
     "data": {
      "text/plain": [
       "0"
      ]
     },
     "execution_count": 86,
     "metadata": {},
     "output_type": "execute_result"
    }
   ],
   "source": [
    "a = 'this is elon musk'\n",
    "a.count('j')"
   ]
  },
  {
   "cell_type": "code",
   "execution_count": 87,
   "id": "32fc35af",
   "metadata": {},
   "outputs": [
    {
     "data": {
      "text/plain": [
       "True"
      ]
     },
     "execution_count": 87,
     "metadata": {},
     "output_type": "execute_result"
    }
   ],
   "source": [
    "a = 'this is elon musk'\n",
    "a.endswith('k')"
   ]
  },
  {
   "cell_type": "code",
   "execution_count": 88,
   "id": "fef0f2e2",
   "metadata": {},
   "outputs": [
    {
     "data": {
      "text/plain": [
       "True"
      ]
     },
     "execution_count": 88,
     "metadata": {},
     "output_type": "execute_result"
    }
   ],
   "source": [
    "a = 'this is elon musk'\n",
    "a.endswith('musk')"
   ]
  },
  {
   "cell_type": "code",
   "execution_count": 89,
   "id": "4a886613",
   "metadata": {},
   "outputs": [
    {
     "data": {
      "text/plain": [
       "False"
      ]
     },
     "execution_count": 89,
     "metadata": {},
     "output_type": "execute_result"
    }
   ],
   "source": [
    "a = 'this is elon musk'\n",
    "a.endswith('Musk')"
   ]
  },
  {
   "cell_type": "code",
   "execution_count": 94,
   "id": "af506835",
   "metadata": {},
   "outputs": [
    {
     "data": {
      "text/plain": [
       "'this                          is                            elon                          musk'"
      ]
     },
     "execution_count": 94,
     "metadata": {},
     "output_type": "execute_result"
    }
   ],
   "source": [
    "a = 'this\\tis\\telon\\tmusk'\n",
    "a.expandtabs(30)"
   ]
  },
  {
   "cell_type": "code",
   "execution_count": null,
   "id": "8d1c000e",
   "metadata": {},
   "outputs": [],
   "source": []
  },
  {
   "cell_type": "code",
   "execution_count": null,
   "id": "e32a29a1",
   "metadata": {},
   "outputs": [],
   "source": []
  },
  {
   "cell_type": "code",
   "execution_count": 95,
   "id": "617db36f",
   "metadata": {},
   "outputs": [
    {
     "data": {
      "text/plain": [
       "10"
      ]
     },
     "execution_count": 95,
     "metadata": {},
     "output_type": "execute_result"
    }
   ],
   "source": [
    "a = 'Python is Awesome'\n",
    "a.find('A')"
   ]
  },
  {
   "cell_type": "code",
   "execution_count": 96,
   "id": "8cb6428f",
   "metadata": {},
   "outputs": [
    {
     "data": {
      "text/plain": [
       "'Awesome'"
      ]
     },
     "execution_count": 96,
     "metadata": {},
     "output_type": "execute_result"
    }
   ],
   "source": [
    "a[10:]"
   ]
  },
  {
   "cell_type": "code",
   "execution_count": 97,
   "id": "22be0ae2",
   "metadata": {},
   "outputs": [
    {
     "data": {
      "text/plain": [
       "-1"
      ]
     },
     "execution_count": 97,
     "metadata": {},
     "output_type": "execute_result"
    }
   ],
   "source": [
    "a = 'Python is Awesome'\n",
    "a.find('z')"
   ]
  },
  {
   "cell_type": "code",
   "execution_count": 99,
   "id": "44f21e41",
   "metadata": {},
   "outputs": [
    {
     "data": {
      "text/plain": [
       "'I have audi car, having model 2023 and price is 345 Lakh'"
      ]
     },
     "execution_count": 99,
     "metadata": {},
     "output_type": "execute_result"
    }
   ],
   "source": [
    "car = 'audi'\n",
    "price = 345\n",
    "model = 2023\n",
    "\n",
    "msg = 'I have {} car, having model {} and price is {} Lakh'\n",
    "\n",
    "msg.format(car,model,price)"
   ]
  },
  {
   "cell_type": "code",
   "execution_count": null,
   "id": "e97f8466",
   "metadata": {},
   "outputs": [],
   "source": []
  },
  {
   "cell_type": "code",
   "execution_count": 105,
   "id": "ef7a6e2c",
   "metadata": {},
   "outputs": [
    {
     "data": {
      "text/plain": [
       "'I have Kia car, having model 2022 and price is 35 Lakh'"
      ]
     },
     "execution_count": 105,
     "metadata": {},
     "output_type": "execute_result"
    }
   ],
   "source": [
    "my_data = {\"c\":'Kia','p':35,'m':2022}\n",
    "\n",
    "msg = 'I have {c} car, having model {m} and price is {p} Lakh'\n",
    "\n",
    "msg.format_map(my_data)"
   ]
  },
  {
   "cell_type": "code",
   "execution_count": 106,
   "id": "f483dbf3",
   "metadata": {},
   "outputs": [
    {
     "name": "stdout",
     "output_type": "stream",
     "text": [
      "Python is Awesome\n"
     ]
    }
   ],
   "source": [
    "a = 'Python is Awesome'\n",
    "\n",
    "print(a)"
   ]
  },
  {
   "cell_type": "code",
   "execution_count": 107,
   "id": "4fa4b362",
   "metadata": {},
   "outputs": [
    {
     "data": {
      "text/plain": [
       "10"
      ]
     },
     "execution_count": 107,
     "metadata": {},
     "output_type": "execute_result"
    }
   ],
   "source": [
    "a.index('A')"
   ]
  },
  {
   "cell_type": "code",
   "execution_count": 108,
   "id": "2eb621bf",
   "metadata": {},
   "outputs": [
    {
     "data": {
      "text/plain": [
       "-1"
      ]
     },
     "execution_count": 108,
     "metadata": {},
     "output_type": "execute_result"
    }
   ],
   "source": [
    "a.find('z')"
   ]
  },
  {
   "cell_type": "code",
   "execution_count": 109,
   "id": "3321fb15",
   "metadata": {},
   "outputs": [
    {
     "ename": "ValueError",
     "evalue": "substring not found",
     "output_type": "error",
     "traceback": [
      "\u001b[1;31m---------------------------------------------------------------------------\u001b[0m",
      "\u001b[1;31mValueError\u001b[0m                                Traceback (most recent call last)",
      "Cell \u001b[1;32mIn[109], line 1\u001b[0m\n\u001b[1;32m----> 1\u001b[0m a\u001b[38;5;241m.\u001b[39mindex(\u001b[38;5;124m'\u001b[39m\u001b[38;5;124mz\u001b[39m\u001b[38;5;124m'\u001b[39m)\n",
      "\u001b[1;31mValueError\u001b[0m: substring not found"
     ]
    }
   ],
   "source": [
    "a.index('z')"
   ]
  },
  {
   "cell_type": "code",
   "execution_count": 110,
   "id": "f743f0b3",
   "metadata": {},
   "outputs": [
    {
     "data": {
      "text/plain": [
       "True"
      ]
     },
     "execution_count": 110,
     "metadata": {},
     "output_type": "execute_result"
    }
   ],
   "source": [
    "a = 'dsasdyuhgf'\n",
    "a.isascii()"
   ]
  },
  {
   "cell_type": "code",
   "execution_count": 111,
   "id": "39869686",
   "metadata": {},
   "outputs": [
    {
     "data": {
      "text/plain": [
       "False"
      ]
     },
     "execution_count": 111,
     "metadata": {},
     "output_type": "execute_result"
    }
   ],
   "source": [
    "a = 'अ'\n",
    "a.isascii()"
   ]
  },
  {
   "cell_type": "code",
   "execution_count": 113,
   "id": "d50911f6",
   "metadata": {},
   "outputs": [
    {
     "data": {
      "text/plain": [
       "False"
      ]
     },
     "execution_count": 113,
     "metadata": {},
     "output_type": "execute_result"
    }
   ],
   "source": [
    "a = 'hgvbl8kbvv'\n",
    "a.isalpha()"
   ]
  },
  {
   "cell_type": "code",
   "execution_count": 114,
   "id": "bb7b5935",
   "metadata": {},
   "outputs": [
    {
     "data": {
      "text/plain": [
       "True"
      ]
     },
     "execution_count": 114,
     "metadata": {},
     "output_type": "execute_result"
    }
   ],
   "source": [
    "a = '654321'\n",
    "a.isdigit()"
   ]
  },
  {
   "cell_type": "code",
   "execution_count": 115,
   "id": "66d83b84",
   "metadata": {},
   "outputs": [
    {
     "data": {
      "text/plain": [
       "False"
      ]
     },
     "execution_count": 115,
     "metadata": {},
     "output_type": "execute_result"
    }
   ],
   "source": [
    "a = '65 4321'\n",
    "a.isdigit()"
   ]
  },
  {
   "cell_type": "code",
   "execution_count": 117,
   "id": "6b154670",
   "metadata": {},
   "outputs": [
    {
     "data": {
      "text/plain": [
       "False"
      ]
     },
     "execution_count": 117,
     "metadata": {},
     "output_type": "execute_result"
    }
   ],
   "source": [
    "a = 'jhfxd sdf'\n",
    "a.isalpha()"
   ]
  },
  {
   "cell_type": "code",
   "execution_count": 118,
   "id": "24762e68",
   "metadata": {},
   "outputs": [
    {
     "data": {
      "text/plain": [
       "True"
      ]
     },
     "execution_count": 118,
     "metadata": {},
     "output_type": "execute_result"
    }
   ],
   "source": [
    "a = 'jhgcxfdcv'\n",
    "\n",
    "a.islower()"
   ]
  },
  {
   "cell_type": "code",
   "execution_count": 119,
   "id": "37e3d7d5",
   "metadata": {},
   "outputs": [
    {
     "data": {
      "text/plain": [
       "False"
      ]
     },
     "execution_count": 119,
     "metadata": {},
     "output_type": "execute_result"
    }
   ],
   "source": [
    "a = ';jhcjjijh'\n",
    "\n",
    "a.isupper()"
   ]
  },
  {
   "cell_type": "code",
   "execution_count": 120,
   "id": "8945a474",
   "metadata": {},
   "outputs": [
    {
     "data": {
      "text/plain": [
       "True"
      ]
     },
     "execution_count": 120,
     "metadata": {},
     "output_type": "execute_result"
    }
   ],
   "source": [
    "a = 'JGFDSDF'\n",
    "\n",
    "a.isupper()"
   ]
  },
  {
   "cell_type": "code",
   "execution_count": 122,
   "id": "e5d05e91",
   "metadata": {},
   "outputs": [
    {
     "data": {
      "text/plain": [
       "'P@y@t@h@o@n'"
      ]
     },
     "execution_count": 122,
     "metadata": {},
     "output_type": "execute_result"
    }
   ],
   "source": [
    "'@'.join('Python')"
   ]
  },
  {
   "cell_type": "code",
   "execution_count": 125,
   "id": "525b4f9c",
   "metadata": {},
   "outputs": [
    {
     "data": {
      "text/plain": [
       "'H O L L Y W O O D'"
      ]
     },
     "execution_count": 125,
     "metadata": {},
     "output_type": "execute_result"
    }
   ],
   "source": [
    "' '.join('Hollywood').upper()"
   ]
  },
  {
   "cell_type": "code",
   "execution_count": 126,
   "id": "a1b280ce",
   "metadata": {
    "scrolled": true
   },
   "outputs": [
    {
     "data": {
      "text/plain": [
       "'jatin,ravi,karan'"
      ]
     },
     "execution_count": 126,
     "metadata": {},
     "output_type": "execute_result"
    }
   ],
   "source": [
    "students = ['jatin','ravi','karan']\n",
    "\n",
    "','.join(students)"
   ]
  },
  {
   "cell_type": "code",
   "execution_count": 128,
   "id": "2f4265fa",
   "metadata": {},
   "outputs": [
    {
     "data": {
      "text/plain": [
       "'Joker*******'"
      ]
     },
     "execution_count": 128,
     "metadata": {},
     "output_type": "execute_result"
    }
   ],
   "source": [
    "a = 'Joker'\n",
    "\n",
    "a.ljust(12,'*')"
   ]
  },
  {
   "cell_type": "code",
   "execution_count": 129,
   "id": "1cb9155e",
   "metadata": {},
   "outputs": [
    {
     "data": {
      "text/plain": [
       "'*******Joker'"
      ]
     },
     "execution_count": 129,
     "metadata": {},
     "output_type": "execute_result"
    }
   ],
   "source": [
    "a = 'Joker'\n",
    "\n",
    "a.rjust(12,'*')"
   ]
  },
  {
   "cell_type": "code",
   "execution_count": 130,
   "id": "b455f08d",
   "metadata": {},
   "outputs": [
    {
     "data": {
      "text/plain": [
       "'Joker'"
      ]
     },
     "execution_count": 130,
     "metadata": {},
     "output_type": "execute_result"
    }
   ],
   "source": [
    "a = 'Joker     '\n",
    "\n",
    "a.rstrip()"
   ]
  },
  {
   "cell_type": "code",
   "execution_count": 131,
   "id": "6cd49866",
   "metadata": {},
   "outputs": [
    {
     "data": {
      "text/plain": [
       "'Joker'"
      ]
     },
     "execution_count": 131,
     "metadata": {},
     "output_type": "execute_result"
    }
   ],
   "source": [
    "a = '      Joker'\n",
    "\n",
    "a.lstrip()"
   ]
  },
  {
   "cell_type": "code",
   "execution_count": 132,
   "id": "09eca379",
   "metadata": {},
   "outputs": [
    {
     "data": {
      "text/plain": [
       "'Joker'"
      ]
     },
     "execution_count": 132,
     "metadata": {},
     "output_type": "execute_result"
    }
   ],
   "source": [
    "a = '      Joker      '\n",
    "\n",
    "a.lstrip().rstrip()"
   ]
  },
  {
   "cell_type": "code",
   "execution_count": 133,
   "id": "aedd89a9",
   "metadata": {},
   "outputs": [
    {
     "data": {
      "text/plain": [
       "'Joker'"
      ]
     },
     "execution_count": 133,
     "metadata": {},
     "output_type": "execute_result"
    }
   ],
   "source": [
    "a = '      Joker      '\n",
    "\n",
    "a.strip()"
   ]
  },
  {
   "cell_type": "code",
   "execution_count": 134,
   "id": "fded4321",
   "metadata": {},
   "outputs": [
    {
     "data": {
      "text/plain": [
       "'Jok er'"
      ]
     },
     "execution_count": 134,
     "metadata": {},
     "output_type": "execute_result"
    }
   ],
   "source": [
    "a = '      Jok er      '\n",
    " \n",
    "a.strip()"
   ]
  },
  {
   "cell_type": "code",
   "execution_count": null,
   "id": "7243610f",
   "metadata": {},
   "outputs": [],
   "source": []
  },
  {
   "cell_type": "code",
   "execution_count": 135,
   "id": "bedc4093",
   "metadata": {},
   "outputs": [
    {
     "data": {
      "text/plain": [
       "'gvkjhgfcvb'"
      ]
     },
     "execution_count": 135,
     "metadata": {},
     "output_type": "execute_result"
    }
   ],
   "source": [
    "a = 'GVKJHGFCVB'\n",
    "\n",
    "a.lower()"
   ]
  },
  {
   "cell_type": "code",
   "execution_count": 136,
   "id": "1c32f337",
   "metadata": {},
   "outputs": [],
   "source": [
    "# 'partition', 'removeprefix', 'removesuffix',"
   ]
  },
  {
   "cell_type": "code",
   "execution_count": 137,
   "id": "a0ff8734",
   "metadata": {},
   "outputs": [],
   "source": [
    "a = 'Python & java'"
   ]
  },
  {
   "cell_type": "code",
   "execution_count": 138,
   "id": "daecfb86",
   "metadata": {},
   "outputs": [
    {
     "data": {
      "text/plain": [
       "('Python ', '&', ' java')"
      ]
     },
     "execution_count": 138,
     "metadata": {},
     "output_type": "execute_result"
    }
   ],
   "source": [
    "a.partition('&')"
   ]
  },
  {
   "cell_type": "code",
   "execution_count": null,
   "id": "f6d69df5",
   "metadata": {},
   "outputs": [],
   "source": []
  },
  {
   "cell_type": "code",
   "execution_count": 140,
   "id": "c07d79e0",
   "metadata": {},
   "outputs": [
    {
     "data": {
      "text/plain": [
       "'Naman batra'"
      ]
     },
     "execution_count": 140,
     "metadata": {},
     "output_type": "execute_result"
    }
   ],
   "source": [
    "a = 'Mr Naman batra'\n",
    "\n",
    "a.removeprefix('Mr ')"
   ]
  },
  {
   "cell_type": "code",
   "execution_count": 142,
   "id": "d573ad3f",
   "metadata": {},
   "outputs": [
    {
     "data": {
      "text/plain": [
       "'Naman batra'"
      ]
     },
     "execution_count": 142,
     "metadata": {},
     "output_type": "execute_result"
    }
   ],
   "source": [
    "a = 'Naman batra kanpue waale'\n",
    "\n",
    "a.removesuffix(' kanpue waale')"
   ]
  },
  {
   "cell_type": "code",
   "execution_count": 143,
   "id": "3a73ea85",
   "metadata": {},
   "outputs": [
    {
     "data": {
      "text/plain": [
       "'Naman batra'"
      ]
     },
     "execution_count": 143,
     "metadata": {},
     "output_type": "execute_result"
    }
   ],
   "source": [
    "a = 'mr Naman batra kanpue waale'\n",
    "\n",
    "a.removesuffix(' kanpue waale').removeprefix('mr ')"
   ]
  },
  {
   "cell_type": "code",
   "execution_count": 144,
   "id": "5f401f9e",
   "metadata": {},
   "outputs": [],
   "source": [
    "#  'split', 'splitlines', 'startswith', "
   ]
  },
  {
   "cell_type": "code",
   "execution_count": 145,
   "id": "e06aa253",
   "metadata": {},
   "outputs": [],
   "source": [
    "# replace"
   ]
  },
  {
   "cell_type": "code",
   "execution_count": 146,
   "id": "06410663",
   "metadata": {},
   "outputs": [],
   "source": [
    "a = 'This is Python'"
   ]
  },
  {
   "cell_type": "code",
   "execution_count": 149,
   "id": "a3f5e25a",
   "metadata": {},
   "outputs": [
    {
     "data": {
      "text/plain": [
       "'This is Elon Musk'"
      ]
     },
     "execution_count": 149,
     "metadata": {},
     "output_type": "execute_result"
    }
   ],
   "source": [
    "a.replace('Python','Elon Musk')"
   ]
  },
  {
   "cell_type": "code",
   "execution_count": 150,
   "id": "97d791c1",
   "metadata": {},
   "outputs": [
    {
     "data": {
      "text/plain": [
       "True"
      ]
     },
     "execution_count": 150,
     "metadata": {},
     "output_type": "execute_result"
    }
   ],
   "source": [
    "a = 'This is Elon Musk'\n",
    "\n",
    "a.endswith('k')"
   ]
  },
  {
   "cell_type": "code",
   "execution_count": 154,
   "id": "d43a98b8",
   "metadata": {},
   "outputs": [
    {
     "data": {
      "text/plain": [
       "True"
      ]
     },
     "execution_count": 154,
     "metadata": {},
     "output_type": "execute_result"
    }
   ],
   "source": [
    "a.startswith('This')"
   ]
  },
  {
   "cell_type": "code",
   "execution_count": 155,
   "id": "06a5cfc8",
   "metadata": {},
   "outputs": [],
   "source": [
    "#  'split', 'splitlines',"
   ]
  },
  {
   "cell_type": "code",
   "execution_count": 156,
   "id": "c518f650",
   "metadata": {},
   "outputs": [],
   "source": [
    "a = 'Python is Awesome and we are learning it'"
   ]
  },
  {
   "cell_type": "code",
   "execution_count": 157,
   "id": "377920a9",
   "metadata": {},
   "outputs": [
    {
     "data": {
      "text/plain": [
       "['Python', 'is', 'Awesome', 'and', 'we', 'are', 'learning', 'it']"
      ]
     },
     "execution_count": 157,
     "metadata": {},
     "output_type": "execute_result"
    }
   ],
   "source": [
    "a.split(' ')"
   ]
  },
  {
   "cell_type": "code",
   "execution_count": 158,
   "id": "dd53afce",
   "metadata": {},
   "outputs": [],
   "source": [
    "a = 'Python,is,Awesome,and,we,are,learning,it'"
   ]
  },
  {
   "cell_type": "code",
   "execution_count": 159,
   "id": "d58db712",
   "metadata": {},
   "outputs": [
    {
     "data": {
      "text/plain": [
       "['Python', 'is', 'Awesome', 'and', 'we', 'are', 'learning', 'it']"
      ]
     },
     "execution_count": 159,
     "metadata": {},
     "output_type": "execute_result"
    }
   ],
   "source": [
    "a.split(',')"
   ]
  },
  {
   "cell_type": "code",
   "execution_count": 162,
   "id": "e58d0eda",
   "metadata": {},
   "outputs": [],
   "source": [
    "a = 'Python\\nis\\nAwesome\\nand\\nwe\\nare\\nlearning\\nit'"
   ]
  },
  {
   "cell_type": "code",
   "execution_count": 163,
   "id": "7a114040",
   "metadata": {},
   "outputs": [
    {
     "name": "stdout",
     "output_type": "stream",
     "text": [
      "Python\n",
      "is\n",
      "Awesome\n",
      "and\n",
      "we\n",
      "are\n",
      "learning\n",
      "it\n"
     ]
    }
   ],
   "source": [
    "print(a)"
   ]
  },
  {
   "cell_type": "code",
   "execution_count": 164,
   "id": "989528ba",
   "metadata": {},
   "outputs": [
    {
     "data": {
      "text/plain": [
       "['Python', 'is', 'Awesome', 'and', 'we', 'are', 'learning', 'it']"
      ]
     },
     "execution_count": 164,
     "metadata": {},
     "output_type": "execute_result"
    }
   ],
   "source": [
    "a.splitlines()"
   ]
  },
  {
   "cell_type": "code",
   "execution_count": 165,
   "id": "481c91c7",
   "metadata": {},
   "outputs": [
    {
     "data": {
      "text/plain": [
       "['Python', 'is', 'Awesome', 'and', 'we', 'are', 'learning', 'it']"
      ]
     },
     "execution_count": 165,
     "metadata": {},
     "output_type": "execute_result"
    }
   ],
   "source": [
    "a.split('\\n')"
   ]
  },
  {
   "cell_type": "code",
   "execution_count": 166,
   "id": "e55065c9",
   "metadata": {},
   "outputs": [
    {
     "data": {
      "text/plain": [
       "['Python', 'is', 'Awesome', 'and', 'we', 'are', 'learning', 'it']"
      ]
     },
     "execution_count": 166,
     "metadata": {},
     "output_type": "execute_result"
    }
   ],
   "source": [
    "a.splitlines()"
   ]
  },
  {
   "cell_type": "code",
   "execution_count": null,
   "id": "63447859",
   "metadata": {},
   "outputs": [],
   "source": []
  },
  {
   "cell_type": "markdown",
   "id": "cd3967cb",
   "metadata": {},
   "source": [
    "    'join', 'ljust', 'lower', 'lstrip', 'maketrans', 'partition', 'removeprefix', 'removesuffix', 'replace', 'rfind', 'rindex', 'rjust', 'rpartition', 'rsplit', 'rstrip', 'split', 'splitlines', 'startswith', 'strip', 'swapcase', 'title', 'translate', 'upper', 'zfill'"
   ]
  },
  {
   "cell_type": "code",
   "execution_count": null,
   "id": "31f552a8",
   "metadata": {},
   "outputs": [],
   "source": []
  },
  {
   "cell_type": "code",
   "execution_count": 167,
   "id": "b1081c73",
   "metadata": {},
   "outputs": [],
   "source": [
    "# 'swapcase', 'title', zfill"
   ]
  },
  {
   "cell_type": "code",
   "execution_count": 168,
   "id": "e2b12c40",
   "metadata": {},
   "outputs": [
    {
     "data": {
      "text/plain": [
       "'tHIS IS elon mUSK'"
      ]
     },
     "execution_count": 168,
     "metadata": {},
     "output_type": "execute_result"
    }
   ],
   "source": [
    "a = 'This is ELON Musk'\n",
    "\n",
    "a.swapcase()"
   ]
  },
  {
   "cell_type": "code",
   "execution_count": null,
   "id": "27ec2d9d",
   "metadata": {},
   "outputs": [],
   "source": []
  },
  {
   "cell_type": "code",
   "execution_count": 170,
   "id": "22d9a122",
   "metadata": {},
   "outputs": [
    {
     "data": {
      "text/plain": [
       "'Python Is Awesome'"
      ]
     },
     "execution_count": 170,
     "metadata": {},
     "output_type": "execute_result"
    }
   ],
   "source": [
    "a = 'python is awesome'\n",
    "\n",
    "a.title()"
   ]
  },
  {
   "cell_type": "code",
   "execution_count": 171,
   "id": "60a61eb5",
   "metadata": {},
   "outputs": [
    {
     "data": {
      "text/plain": [
       "'Python is awesome'"
      ]
     },
     "execution_count": 171,
     "metadata": {},
     "output_type": "execute_result"
    }
   ],
   "source": [
    "a = 'python is awesome'\n",
    "\n",
    "a.capitalize()"
   ]
  },
  {
   "cell_type": "code",
   "execution_count": null,
   "id": "dd73683b",
   "metadata": {},
   "outputs": [],
   "source": []
  },
  {
   "cell_type": "code",
   "execution_count": 174,
   "id": "c60b42b4",
   "metadata": {},
   "outputs": [
    {
     "data": {
      "text/plain": [
       "'000000098765'"
      ]
     },
     "execution_count": 174,
     "metadata": {},
     "output_type": "execute_result"
    }
   ],
   "source": [
    "a = '98765'\n",
    "\n",
    "a.zfill(12)"
   ]
  },
  {
   "cell_type": "code",
   "execution_count": 175,
   "id": "19d14dd8",
   "metadata": {},
   "outputs": [
    {
     "data": {
      "text/plain": [
       "'000000098765'"
      ]
     },
     "execution_count": 175,
     "metadata": {},
     "output_type": "execute_result"
    }
   ],
   "source": [
    "a.rjust(12,'0')"
   ]
  },
  {
   "cell_type": "code",
   "execution_count": 177,
   "id": "dbcdad71",
   "metadata": {},
   "outputs": [],
   "source": [
    "# List & tuple\n",
    "# Dict\n",
    "# Set\n",
    "#if else\n",
    "# loop\n",
    "# func\n",
    "# error handling\n",
    "# ..."
   ]
  },
  {
   "cell_type": "code",
   "execution_count": null,
   "id": "1944597b",
   "metadata": {},
   "outputs": [],
   "source": []
  }
 ],
 "metadata": {
  "kernelspec": {
   "display_name": "Python 3 (ipykernel)",
   "language": "python",
   "name": "python3"
  },
  "language_info": {
   "codemirror_mode": {
    "name": "ipython",
    "version": 3
   },
   "file_extension": ".py",
   "mimetype": "text/x-python",
   "name": "python",
   "nbconvert_exporter": "python",
   "pygments_lexer": "ipython3",
   "version": "3.11.3"
  }
 },
 "nbformat": 4,
 "nbformat_minor": 5
}
