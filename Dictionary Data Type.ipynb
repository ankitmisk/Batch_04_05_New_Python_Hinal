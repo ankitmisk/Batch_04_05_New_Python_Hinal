{
 "cells": [
  {
   "cell_type": "code",
   "execution_count": 1,
   "id": "644285bc",
   "metadata": {},
   "outputs": [
    {
     "name": "stdout",
     "output_type": "stream",
     "text": [
      "{'Name': 'Mohan', 'Age': 23, 'Address': 'Noida'}\n"
     ]
    }
   ],
   "source": [
    "data = {'Name':'Mohan','Age':23,'Address':'Noida'}\n",
    "\n",
    "print(data)"
   ]
  },
  {
   "cell_type": "code",
   "execution_count": 2,
   "id": "aba4244f",
   "metadata": {},
   "outputs": [
    {
     "name": "stdout",
     "output_type": "stream",
     "text": [
      "<class 'dict'>\n"
     ]
    }
   ],
   "source": [
    "print(type(data))"
   ]
  },
  {
   "cell_type": "code",
   "execution_count": 3,
   "id": "182342f4",
   "metadata": {},
   "outputs": [],
   "source": [
    "# key position data type use"
   ]
  },
  {
   "cell_type": "code",
   "execution_count": 4,
   "id": "a9942fe2",
   "metadata": {},
   "outputs": [
    {
     "name": "stdout",
     "output_type": "stream",
     "text": [
      "{12: 'One', 23: True}\n"
     ]
    }
   ],
   "source": [
    "data = {12:'One',23:True}\n",
    "\n",
    "print(data)"
   ]
  },
  {
   "cell_type": "code",
   "execution_count": null,
   "id": "98db0176",
   "metadata": {},
   "outputs": [],
   "source": []
  },
  {
   "cell_type": "code",
   "execution_count": 5,
   "id": "c7f9481f",
   "metadata": {},
   "outputs": [
    {
     "name": "stdout",
     "output_type": "stream",
     "text": [
      "{45.8: 'One', 23.8: True}\n"
     ]
    }
   ],
   "source": [
    "data = {45.8:'One',23.8:True}\n",
    "\n",
    "print(data)"
   ]
  },
  {
   "cell_type": "code",
   "execution_count": 6,
   "id": "52cdf9a7",
   "metadata": {},
   "outputs": [
    {
     "name": "stdout",
     "output_type": "stream",
     "text": [
      "{(45.8-8j): 'One', (23.8-9j): True}\n"
     ]
    }
   ],
   "source": [
    "data = {45.8-8j:'One',23.8-9j:True}\n",
    "\n",
    "print(data)"
   ]
  },
  {
   "cell_type": "code",
   "execution_count": 7,
   "id": "d693e7ad",
   "metadata": {},
   "outputs": [
    {
     "name": "stdout",
     "output_type": "stream",
     "text": [
      "{(1, 23, 5): 'One', (3, 5456): True}\n"
     ]
    }
   ],
   "source": [
    "data = {(1,23,5):'One',(3,5456):True}\n",
    "\n",
    "print(data)"
   ]
  },
  {
   "cell_type": "code",
   "execution_count": 8,
   "id": "1bea7a35",
   "metadata": {},
   "outputs": [
    {
     "name": "stdout",
     "output_type": "stream",
     "text": [
      "{None: 'One', False: True}\n"
     ]
    }
   ],
   "source": [
    "data = {None:'One',False:True}\n",
    "\n",
    "print(data)"
   ]
  },
  {
   "cell_type": "code",
   "execution_count": 9,
   "id": "3da162ee",
   "metadata": {},
   "outputs": [],
   "source": [
    "# key:- allowed, immutable, can not be changed"
   ]
  },
  {
   "cell_type": "code",
   "execution_count": 10,
   "id": "f84bca7a",
   "metadata": {},
   "outputs": [],
   "source": [
    "# value:- all data types"
   ]
  },
  {
   "cell_type": "code",
   "execution_count": 11,
   "id": "bb133188",
   "metadata": {},
   "outputs": [
    {
     "name": "stdout",
     "output_type": "stream",
     "text": [
      "{1: [1, 234, 235], 2: (1, 24, 35, 66), 3: True, 4: 'Mohan', 5: None, 6: {24, 1, 35, 6}}\n"
     ]
    }
   ],
   "source": [
    "data = {1:[1,234,235],\n",
    "       2:(1,24,35,66),\n",
    "       3:True,\n",
    "       4:'Mohan',\n",
    "        5:None,\n",
    "       6:{1,24,35,6}}\n",
    "\n",
    "print(data)"
   ]
  },
  {
   "cell_type": "code",
   "execution_count": 12,
   "id": "b73e8bc4",
   "metadata": {},
   "outputs": [],
   "source": [
    "# what are not allowed at key position"
   ]
  },
  {
   "cell_type": "code",
   "execution_count": 13,
   "id": "516f8177",
   "metadata": {},
   "outputs": [],
   "source": [
    "# mutable"
   ]
  },
  {
   "cell_type": "code",
   "execution_count": 14,
   "id": "a3d5e3a5",
   "metadata": {},
   "outputs": [],
   "source": [
    "# dict,list,set"
   ]
  },
  {
   "cell_type": "code",
   "execution_count": 15,
   "id": "6aac01fb",
   "metadata": {},
   "outputs": [
    {
     "ename": "TypeError",
     "evalue": "unhashable type: 'list'",
     "output_type": "error",
     "traceback": [
      "\u001b[1;31m---------------------------------------------------------------------------\u001b[0m",
      "\u001b[1;31mTypeError\u001b[0m                                 Traceback (most recent call last)",
      "Cell \u001b[1;32mIn[15], line 1\u001b[0m\n\u001b[1;32m----> 1\u001b[0m data \u001b[38;5;241m=\u001b[39m {[\u001b[38;5;241m1\u001b[39m,\u001b[38;5;241m234\u001b[39m,\u001b[38;5;241m5\u001b[39m]:\u001b[38;5;28;01mTrue\u001b[39;00m}\n\u001b[0;32m      2\u001b[0m \u001b[38;5;28mprint\u001b[39m(data)\n",
      "\u001b[1;31mTypeError\u001b[0m: unhashable type: 'list'"
     ]
    }
   ],
   "source": [
    "data = {[1,234,5]:True}\n",
    "print(data)"
   ]
  },
  {
   "cell_type": "code",
   "execution_count": 16,
   "id": "afec9fe3",
   "metadata": {},
   "outputs": [
    {
     "ename": "TypeError",
     "evalue": "unhashable type: 'set'",
     "output_type": "error",
     "traceback": [
      "\u001b[1;31m---------------------------------------------------------------------------\u001b[0m",
      "\u001b[1;31mTypeError\u001b[0m                                 Traceback (most recent call last)",
      "Cell \u001b[1;32mIn[16], line 1\u001b[0m\n\u001b[1;32m----> 1\u001b[0m data \u001b[38;5;241m=\u001b[39m {{\u001b[38;5;241m1\u001b[39m,\u001b[38;5;241m234\u001b[39m,\u001b[38;5;241m5\u001b[39m}:\u001b[38;5;28;01mTrue\u001b[39;00m}\n\u001b[0;32m      2\u001b[0m \u001b[38;5;28mprint\u001b[39m(data)\n",
      "\u001b[1;31mTypeError\u001b[0m: unhashable type: 'set'"
     ]
    }
   ],
   "source": [
    "data = {{1,234,5}:True}\n",
    "print(data)"
   ]
  },
  {
   "cell_type": "code",
   "execution_count": 17,
   "id": "a64003b4",
   "metadata": {},
   "outputs": [
    {
     "ename": "TypeError",
     "evalue": "unhashable type: 'dict'",
     "output_type": "error",
     "traceback": [
      "\u001b[1;31m---------------------------------------------------------------------------\u001b[0m",
      "\u001b[1;31mTypeError\u001b[0m                                 Traceback (most recent call last)",
      "Cell \u001b[1;32mIn[17], line 1\u001b[0m\n\u001b[1;32m----> 1\u001b[0m data \u001b[38;5;241m=\u001b[39m {{\u001b[38;5;124m'\u001b[39m\u001b[38;5;124mName\u001b[39m\u001b[38;5;124m'\u001b[39m:\u001b[38;5;124m'\u001b[39m\u001b[38;5;124mMohan\u001b[39m\u001b[38;5;124m'\u001b[39m}:\u001b[38;5;28;01mTrue\u001b[39;00m}\n\u001b[0;32m      2\u001b[0m \u001b[38;5;28mprint\u001b[39m(data)\n",
      "\u001b[1;31mTypeError\u001b[0m: unhashable type: 'dict'"
     ]
    }
   ],
   "source": [
    "data = {{'Name':'Mohan'}:True}\n",
    "print(data)"
   ]
  },
  {
   "cell_type": "code",
   "execution_count": 19,
   "id": "55bbb624",
   "metadata": {},
   "outputs": [],
   "source": [
    "# netsed dict:- we can create dictionary inside dictionary, at value position"
   ]
  },
  {
   "cell_type": "code",
   "execution_count": 20,
   "id": "04ae6a70",
   "metadata": {},
   "outputs": [
    {
     "name": "stdout",
     "output_type": "stream",
     "text": [
      "{'bank1': {'Noida': 12, 'Delhi': 34}}\n"
     ]
    }
   ],
   "source": [
    "data = {'bank1':{'Noida':12,'Delhi':34}}\n",
    "\n",
    "print(data)"
   ]
  },
  {
   "cell_type": "code",
   "execution_count": 21,
   "id": "0e1da19a",
   "metadata": {},
   "outputs": [
    {
     "name": "stdout",
     "output_type": "stream",
     "text": [
      "{}\n"
     ]
    }
   ],
   "source": [
    "# empty:- \n",
    "\n",
    "data = {}\n",
    "\n",
    "print(data)"
   ]
  },
  {
   "cell_type": "code",
   "execution_count": 22,
   "id": "3d958c9f",
   "metadata": {},
   "outputs": [
    {
     "name": "stdout",
     "output_type": "stream",
     "text": [
      "<class 'dict'>\n"
     ]
    }
   ],
   "source": [
    "print(type(data))"
   ]
  },
  {
   "cell_type": "code",
   "execution_count": 23,
   "id": "1ffdc835",
   "metadata": {},
   "outputs": [
    {
     "name": "stdout",
     "output_type": "stream",
     "text": [
      "{'name': 'Mohan', 'Age': 34, 'Class': 12, 'Address': 'Noida'}\n"
     ]
    }
   ],
   "source": [
    "data = {'name':'Mohan','Age':34,'Class':12,'Address':'Noida'}\n",
    "print(data)"
   ]
  },
  {
   "cell_type": "code",
   "execution_count": 24,
   "id": "be936771",
   "metadata": {},
   "outputs": [
    {
     "ename": "KeyError",
     "evalue": "0",
     "output_type": "error",
     "traceback": [
      "\u001b[1;31m---------------------------------------------------------------------------\u001b[0m",
      "\u001b[1;31mKeyError\u001b[0m                                  Traceback (most recent call last)",
      "Cell \u001b[1;32mIn[24], line 1\u001b[0m\n\u001b[1;32m----> 1\u001b[0m data[\u001b[38;5;241m0\u001b[39m]\n",
      "\u001b[1;31mKeyError\u001b[0m: 0"
     ]
    }
   ],
   "source": [
    "data[0]"
   ]
  },
  {
   "cell_type": "code",
   "execution_count": 25,
   "id": "e5f8a620",
   "metadata": {},
   "outputs": [],
   "source": [
    "# dict does not supports idexing"
   ]
  },
  {
   "cell_type": "code",
   "execution_count": 26,
   "id": "49eac633",
   "metadata": {},
   "outputs": [],
   "source": [
    "# dict supports key value assignments"
   ]
  },
  {
   "cell_type": "code",
   "execution_count": 27,
   "id": "6c896cd6",
   "metadata": {},
   "outputs": [],
   "source": [
    "data = {0:[1,23,43,5],1:'Mohan',3:'Ajay'}"
   ]
  },
  {
   "cell_type": "code",
   "execution_count": 28,
   "id": "ab360d03",
   "metadata": {},
   "outputs": [
    {
     "name": "stdout",
     "output_type": "stream",
     "text": [
      "{0: [1, 23, 43, 5], 1: 'Mohan', 3: 'Ajay'}\n"
     ]
    }
   ],
   "source": [
    "print(data)"
   ]
  },
  {
   "cell_type": "code",
   "execution_count": 29,
   "id": "a0c64993",
   "metadata": {},
   "outputs": [
    {
     "data": {
      "text/plain": [
       "[1, 23, 43, 5]"
      ]
     },
     "execution_count": 29,
     "metadata": {},
     "output_type": "execute_result"
    }
   ],
   "source": [
    "data[0]"
   ]
  },
  {
   "cell_type": "code",
   "execution_count": 30,
   "id": "8390dd10",
   "metadata": {},
   "outputs": [
    {
     "data": {
      "text/plain": [
       "'Mohan'"
      ]
     },
     "execution_count": 30,
     "metadata": {},
     "output_type": "execute_result"
    }
   ],
   "source": [
    "data[1]"
   ]
  },
  {
   "cell_type": "code",
   "execution_count": 32,
   "id": "513efab1",
   "metadata": {},
   "outputs": [
    {
     "data": {
      "text/plain": [
       "'Ajay'"
      ]
     },
     "execution_count": 32,
     "metadata": {},
     "output_type": "execute_result"
    }
   ],
   "source": [
    "data[3]"
   ]
  },
  {
   "cell_type": "code",
   "execution_count": 33,
   "id": "9e31a4ed",
   "metadata": {},
   "outputs": [],
   "source": [
    "data[3] = 'Ajay Verma'\n"
   ]
  },
  {
   "cell_type": "code",
   "execution_count": 34,
   "id": "8a5fea07",
   "metadata": {},
   "outputs": [
    {
     "name": "stdout",
     "output_type": "stream",
     "text": [
      "{0: [1, 23, 43, 5], 1: 'Mohan', 3: 'Ajay Verma'}\n"
     ]
    }
   ],
   "source": [
    "print(data)"
   ]
  },
  {
   "cell_type": "code",
   "execution_count": 36,
   "id": "0f3efb9b",
   "metadata": {},
   "outputs": [],
   "source": [
    "data[2] = 'Noida'"
   ]
  },
  {
   "cell_type": "code",
   "execution_count": 37,
   "id": "f4a462dc",
   "metadata": {},
   "outputs": [
    {
     "name": "stdout",
     "output_type": "stream",
     "text": [
      "{0: [1, 23, 43, 5], 1: 'Mohan', 3: 'Ajay Verma', 2: 'Noida'}\n"
     ]
    }
   ],
   "source": [
    "print(data)"
   ]
  },
  {
   "cell_type": "code",
   "execution_count": 38,
   "id": "b9eedbf1",
   "metadata": {},
   "outputs": [
    {
     "data": {
      "text/plain": [
       "4"
      ]
     },
     "execution_count": 38,
     "metadata": {},
     "output_type": "execute_result"
    }
   ],
   "source": [
    "len(data)"
   ]
  },
  {
   "cell_type": "code",
   "execution_count": 40,
   "id": "987760c8",
   "metadata": {},
   "outputs": [
    {
     "data": {
      "text/plain": [
       "[0, 1, 3, 2]"
      ]
     },
     "execution_count": 40,
     "metadata": {},
     "output_type": "execute_result"
    }
   ],
   "source": [
    "list(data)"
   ]
  },
  {
   "cell_type": "code",
   "execution_count": 41,
   "id": "10afebde",
   "metadata": {},
   "outputs": [
    {
     "data": {
      "text/plain": [
       "(0, 1, 3, 2)"
      ]
     },
     "execution_count": 41,
     "metadata": {},
     "output_type": "execute_result"
    }
   ],
   "source": [
    "tuple(data)"
   ]
  },
  {
   "cell_type": "code",
   "execution_count": 42,
   "id": "eed484d7",
   "metadata": {},
   "outputs": [
    {
     "data": {
      "text/plain": [
       "{0, 1, 2, 3}"
      ]
     },
     "execution_count": 42,
     "metadata": {},
     "output_type": "execute_result"
    }
   ],
   "source": [
    "set(data)"
   ]
  },
  {
   "cell_type": "code",
   "execution_count": 43,
   "id": "a8cffc12",
   "metadata": {},
   "outputs": [
    {
     "name": "stdout",
     "output_type": "stream",
     "text": [
      "{'name': 'Mohan', 'Age': 34, 'Class': 12, 'Address': 'Noida'}\n"
     ]
    }
   ],
   "source": [
    "data = {'name':'Mohan','Age':34,'Class':12,'Address':'Noida'}\n",
    "print(data)"
   ]
  },
  {
   "cell_type": "code",
   "execution_count": 44,
   "id": "eef7ed43",
   "metadata": {},
   "outputs": [
    {
     "data": {
      "text/plain": [
       "['name', 'Age', 'Class', 'Address']"
      ]
     },
     "execution_count": 44,
     "metadata": {},
     "output_type": "execute_result"
    }
   ],
   "source": [
    "list(data)"
   ]
  },
  {
   "cell_type": "code",
   "execution_count": 45,
   "id": "6df196df",
   "metadata": {},
   "outputs": [],
   "source": [
    "# some basic op"
   ]
  },
  {
   "cell_type": "code",
   "execution_count": 46,
   "id": "f6199c14",
   "metadata": {},
   "outputs": [],
   "source": [
    "a = {'name':'kajal'}\n",
    "b = {'Age':23}\n",
    "c = {'Address':'Noida'}"
   ]
  },
  {
   "cell_type": "code",
   "execution_count": 47,
   "id": "70356465",
   "metadata": {},
   "outputs": [
    {
     "ename": "TypeError",
     "evalue": "unsupported operand type(s) for +: 'dict' and 'dict'",
     "output_type": "error",
     "traceback": [
      "\u001b[1;31m---------------------------------------------------------------------------\u001b[0m",
      "\u001b[1;31mTypeError\u001b[0m                                 Traceback (most recent call last)",
      "Cell \u001b[1;32mIn[47], line 1\u001b[0m\n\u001b[1;32m----> 1\u001b[0m a\u001b[38;5;241m+\u001b[39mb\u001b[38;5;241m+\u001b[39mc\n",
      "\u001b[1;31mTypeError\u001b[0m: unsupported operand type(s) for +: 'dict' and 'dict'"
     ]
    }
   ],
   "source": [
    "a+b+c"
   ]
  },
  {
   "cell_type": "code",
   "execution_count": 48,
   "id": "903e6f5e",
   "metadata": {},
   "outputs": [
    {
     "ename": "TypeError",
     "evalue": "unsupported operand type(s) for -: 'dict' and 'dict'",
     "output_type": "error",
     "traceback": [
      "\u001b[1;31m---------------------------------------------------------------------------\u001b[0m",
      "\u001b[1;31mTypeError\u001b[0m                                 Traceback (most recent call last)",
      "Cell \u001b[1;32mIn[48], line 1\u001b[0m\n\u001b[1;32m----> 1\u001b[0m a\u001b[38;5;241m-\u001b[39mb\u001b[38;5;241m-\u001b[39mc\n",
      "\u001b[1;31mTypeError\u001b[0m: unsupported operand type(s) for -: 'dict' and 'dict'"
     ]
    }
   ],
   "source": [
    "a-b-c"
   ]
  },
  {
   "cell_type": "code",
   "execution_count": 49,
   "id": "35d2fa6f",
   "metadata": {},
   "outputs": [
    {
     "data": {
      "text/plain": [
       "[1, 234, 3, 124, 5, 1, 234, 3, 124, 5]"
      ]
     },
     "execution_count": 49,
     "metadata": {},
     "output_type": "execute_result"
    }
   ],
   "source": [
    "a = [1,234,3,124,5]\n",
    "\n",
    "a * 2"
   ]
  },
  {
   "cell_type": "code",
   "execution_count": 50,
   "id": "30e8e3a6",
   "metadata": {},
   "outputs": [],
   "source": [
    "a = {'name':'kajal'}\n",
    "b = {'Age':23}\n",
    "c = {'Address':'Noida'}"
   ]
  },
  {
   "cell_type": "code",
   "execution_count": 51,
   "id": "32b7d0bc",
   "metadata": {},
   "outputs": [
    {
     "ename": "TypeError",
     "evalue": "unsupported operand type(s) for *: 'dict' and 'int'",
     "output_type": "error",
     "traceback": [
      "\u001b[1;31m---------------------------------------------------------------------------\u001b[0m",
      "\u001b[1;31mTypeError\u001b[0m                                 Traceback (most recent call last)",
      "Cell \u001b[1;32mIn[51], line 1\u001b[0m\n\u001b[1;32m----> 1\u001b[0m c \u001b[38;5;241m*\u001b[39m \u001b[38;5;241m2\u001b[39m\n",
      "\u001b[1;31mTypeError\u001b[0m: unsupported operand type(s) for *: 'dict' and 'int'"
     ]
    }
   ],
   "source": [
    "c * 2"
   ]
  },
  {
   "cell_type": "code",
   "execution_count": 53,
   "id": "0d4d714b",
   "metadata": {},
   "outputs": [
    {
     "name": "stdout",
     "output_type": "stream",
     "text": [
      "{'name': 'ravi Verma', 'Age': 34, 'Class': 12, 'Address': 'Noida'}\n"
     ]
    }
   ],
   "source": [
    "data = {'name':'Mohan','Age':34,'Class':12,'Address':'Noida','name':'ravi Verma'}\n",
    "print(data)"
   ]
  },
  {
   "cell_type": "code",
   "execution_count": 55,
   "id": "6efefe55",
   "metadata": {},
   "outputs": [],
   "source": [
    "data['Age'] = 28"
   ]
  },
  {
   "cell_type": "code",
   "execution_count": 56,
   "id": "011858e5",
   "metadata": {},
   "outputs": [
    {
     "name": "stdout",
     "output_type": "stream",
     "text": [
      "{'name': 'ravi Verma', 'Age': 28, 'Class': 12, 'Address': 'Noida'}\n"
     ]
    }
   ],
   "source": [
    "print(data)"
   ]
  },
  {
   "cell_type": "code",
   "execution_count": 58,
   "id": "9610d50e",
   "metadata": {},
   "outputs": [],
   "source": [
    "data['Address'] = 'Delhi'"
   ]
  },
  {
   "cell_type": "code",
   "execution_count": 59,
   "id": "791209d6",
   "metadata": {},
   "outputs": [
    {
     "name": "stdout",
     "output_type": "stream",
     "text": [
      "{'name': 'ravi Verma', 'Age': 28, 'Class': 12, 'Address': 'Delhi'}\n"
     ]
    }
   ],
   "source": [
    "print(data)"
   ]
  },
  {
   "cell_type": "code",
   "execution_count": 60,
   "id": "42e5e78f",
   "metadata": {},
   "outputs": [],
   "source": [
    "# \n",
    "\n",
    "data = {'Delhi':[{'Bank1':1200,'Bank2':2300}]}"
   ]
  },
  {
   "cell_type": "code",
   "execution_count": 61,
   "id": "7c13b7e8",
   "metadata": {},
   "outputs": [
    {
     "name": "stdout",
     "output_type": "stream",
     "text": [
      "{'Delhi': [{'Bank1': 1200, 'Bank2': 2300}]}\n"
     ]
    }
   ],
   "source": [
    "print(data)"
   ]
  },
  {
   "cell_type": "code",
   "execution_count": 65,
   "id": "0b7d7cc1",
   "metadata": {},
   "outputs": [],
   "source": [
    "data['Delhi'][0]['Bank1'] = 0"
   ]
  },
  {
   "cell_type": "code",
   "execution_count": 66,
   "id": "3bafab23",
   "metadata": {},
   "outputs": [
    {
     "name": "stdout",
     "output_type": "stream",
     "text": [
      "{'Delhi': [{'Bank1': 0, 'Bank2': 2300}]}\n"
     ]
    }
   ],
   "source": [
    "print(data)"
   ]
  },
  {
   "cell_type": "code",
   "execution_count": 71,
   "id": "098e1a84",
   "metadata": {},
   "outputs": [],
   "source": [
    "data['Delhi'][0]['Bank2'] = 0"
   ]
  },
  {
   "cell_type": "code",
   "execution_count": 72,
   "id": "543cbc80",
   "metadata": {},
   "outputs": [
    {
     "name": "stdout",
     "output_type": "stream",
     "text": [
      "{'Delhi': [{'Bank1': 0, 'Bank2': 0}]}\n"
     ]
    }
   ],
   "source": [
    "print(data)"
   ]
  },
  {
   "cell_type": "markdown",
   "id": "e9390de9",
   "metadata": {},
   "source": [
    "# Methods"
   ]
  },
  {
   "cell_type": "code",
   "execution_count": 74,
   "id": "d1649d67",
   "metadata": {},
   "outputs": [
    {
     "name": "stdout",
     "output_type": "stream",
     "text": [
      "['__class__', '__class_getitem__', '__contains__', '__delattr__', '__delitem__', '__dir__', '__doc__', '__eq__', '__format__', '__ge__', '__getattribute__', '__getitem__', '__getstate__', '__gt__', '__hash__', '__init__', '__init_subclass__', '__ior__', '__iter__', '__le__', '__len__', '__lt__', '__ne__', '__new__', '__or__', '__reduce__', '__reduce_ex__', '__repr__', '__reversed__', '__ror__', '__setattr__', '__setitem__', '__sizeof__', '__str__', '__subclasshook__', 'clear', 'copy', 'fromkeys', 'get', 'items', 'keys', 'pop', 'popitem', 'setdefault', 'update', 'values']\n"
     ]
    }
   ],
   "source": [
    "print(dir(data))"
   ]
  },
  {
   "cell_type": "code",
   "execution_count": 75,
   "id": "f0d70b4e",
   "metadata": {},
   "outputs": [],
   "source": [
    "all_methods = ['clear', 'copy', 'fromkeys', 'get', 'items', 'keys', 'pop', 'popitem', 'setdefault', 'update', 'values']"
   ]
  },
  {
   "cell_type": "code",
   "execution_count": 76,
   "id": "623078cc",
   "metadata": {},
   "outputs": [
    {
     "name": "stdout",
     "output_type": "stream",
     "text": [
      "['clear', 'copy', 'fromkeys', 'get', 'items', 'keys', 'pop', 'popitem', 'setdefault', 'update', 'values']\n"
     ]
    }
   ],
   "source": [
    "print(all_methods)"
   ]
  },
  {
   "cell_type": "code",
   "execution_count": 77,
   "id": "0ea11c88",
   "metadata": {},
   "outputs": [
    {
     "name": "stdout",
     "output_type": "stream",
     "text": [
      "11\n"
     ]
    }
   ],
   "source": [
    "print(len(all_methods))"
   ]
  },
  {
   "cell_type": "code",
   "execution_count": 78,
   "id": "ac45a1a6",
   "metadata": {},
   "outputs": [
    {
     "name": "stdout",
     "output_type": "stream",
     "text": [
      "{'Name': 'Jatin', 'Age': 21, 'Class': 12, 'Sec': 'A'}\n"
     ]
    }
   ],
   "source": [
    "students = {'Name':'Jatin','Age':21,'Class':12,'Sec':'A'}\n",
    "\n",
    "print(students)"
   ]
  },
  {
   "cell_type": "code",
   "execution_count": 79,
   "id": "7ead3c20",
   "metadata": {},
   "outputs": [],
   "source": [
    "students.clear()"
   ]
  },
  {
   "cell_type": "code",
   "execution_count": 80,
   "id": "2beb7e4d",
   "metadata": {},
   "outputs": [
    {
     "name": "stdout",
     "output_type": "stream",
     "text": [
      "{}\n"
     ]
    }
   ],
   "source": [
    "print(students)"
   ]
  },
  {
   "cell_type": "code",
   "execution_count": 81,
   "id": "0d3cef53",
   "metadata": {},
   "outputs": [
    {
     "data": {
      "text/plain": [
       "0"
      ]
     },
     "execution_count": 81,
     "metadata": {},
     "output_type": "execute_result"
    }
   ],
   "source": [
    "len(students)"
   ]
  },
  {
   "cell_type": "code",
   "execution_count": 82,
   "id": "8eab381d",
   "metadata": {},
   "outputs": [],
   "source": [
    "harry = {'Bank1':1200,'Bank2':2300}\n",
    "\n",
    "robin = harry"
   ]
  },
  {
   "cell_type": "code",
   "execution_count": 83,
   "id": "c5968f7c",
   "metadata": {},
   "outputs": [],
   "source": [
    "# deep copy"
   ]
  },
  {
   "cell_type": "code",
   "execution_count": 85,
   "id": "3b25a1dd",
   "metadata": {},
   "outputs": [],
   "source": [
    "robin['Bank2'] = 1234567"
   ]
  },
  {
   "cell_type": "code",
   "execution_count": 86,
   "id": "99900233",
   "metadata": {},
   "outputs": [
    {
     "name": "stdout",
     "output_type": "stream",
     "text": [
      "{'Bank1': 1200, 'Bank2': 1234567}\n"
     ]
    }
   ],
   "source": [
    "print(robin)"
   ]
  },
  {
   "cell_type": "code",
   "execution_count": 87,
   "id": "311c060b",
   "metadata": {},
   "outputs": [
    {
     "name": "stdout",
     "output_type": "stream",
     "text": [
      "{'Bank1': 1200, 'Bank2': 1234567}\n"
     ]
    }
   ],
   "source": [
    "print(harry)"
   ]
  },
  {
   "cell_type": "code",
   "execution_count": null,
   "id": "5dcd954c",
   "metadata": {},
   "outputs": [],
   "source": []
  },
  {
   "cell_type": "code",
   "execution_count": 88,
   "id": "06245ee1",
   "metadata": {},
   "outputs": [],
   "source": [
    "lucky = {'Bank1':100,'Bank2':200}\n",
    "karan = lucky.copy()"
   ]
  },
  {
   "cell_type": "code",
   "execution_count": 89,
   "id": "0c83d3a7",
   "metadata": {},
   "outputs": [
    {
     "data": {
      "text/plain": [
       "{'Bank1': 100, 'Bank2': 200}"
      ]
     },
     "execution_count": 89,
     "metadata": {},
     "output_type": "execute_result"
    }
   ],
   "source": [
    "karan"
   ]
  },
  {
   "cell_type": "code",
   "execution_count": 90,
   "id": "222f5fe1",
   "metadata": {},
   "outputs": [
    {
     "data": {
      "text/plain": [
       "{'Bank1': 100, 'Bank2': 200}"
      ]
     },
     "execution_count": 90,
     "metadata": {},
     "output_type": "execute_result"
    }
   ],
   "source": [
    "lucky"
   ]
  },
  {
   "cell_type": "code",
   "execution_count": 91,
   "id": "f2e81644",
   "metadata": {},
   "outputs": [],
   "source": [
    "lucky['Bank3'] = 2345678"
   ]
  },
  {
   "cell_type": "code",
   "execution_count": 92,
   "id": "b9a41db6",
   "metadata": {},
   "outputs": [
    {
     "name": "stdout",
     "output_type": "stream",
     "text": [
      "{'Bank1': 100, 'Bank2': 200, 'Bank3': 2345678}\n"
     ]
    }
   ],
   "source": [
    "print(lucky)"
   ]
  },
  {
   "cell_type": "code",
   "execution_count": 93,
   "id": "43c4f38b",
   "metadata": {},
   "outputs": [
    {
     "name": "stdout",
     "output_type": "stream",
     "text": [
      "{'Bank1': 100, 'Bank2': 200}\n"
     ]
    }
   ],
   "source": [
    "print(karan)"
   ]
  },
  {
   "cell_type": "code",
   "execution_count": 95,
   "id": "9e4eb05a",
   "metadata": {},
   "outputs": [],
   "source": [
    "# shallow copy"
   ]
  },
  {
   "cell_type": "code",
   "execution_count": 96,
   "id": "4ffabab6",
   "metadata": {},
   "outputs": [
    {
     "name": "stdout",
     "output_type": "stream",
     "text": [
      "['clear', 'copy', 'fromkeys', 'get', 'items', 'keys', 'pop', 'popitem', 'setdefault', 'update', 'values']\n"
     ]
    }
   ],
   "source": [
    "print(all_methods)"
   ]
  },
  {
   "cell_type": "code",
   "execution_count": 97,
   "id": "3a41e25d",
   "metadata": {},
   "outputs": [],
   "source": [
    "keys_list = ['eid','name','salary','dept','address']"
   ]
  },
  {
   "cell_type": "code",
   "execution_count": 98,
   "id": "6a565ce9",
   "metadata": {},
   "outputs": [],
   "source": [
    "emp_dict  = {}\n",
    "\n",
    "emp_dict = emp_dict.fromkeys(keys_list)"
   ]
  },
  {
   "cell_type": "code",
   "execution_count": 99,
   "id": "a88b9633",
   "metadata": {},
   "outputs": [
    {
     "name": "stdout",
     "output_type": "stream",
     "text": [
      "{'eid': None, 'name': None, 'salary': None, 'dept': None, 'address': None}\n"
     ]
    }
   ],
   "source": [
    "print(emp_dict)"
   ]
  },
  {
   "cell_type": "code",
   "execution_count": 100,
   "id": "c047fd47",
   "metadata": {},
   "outputs": [],
   "source": [
    "emp_dict['name'] = 'Jatin'"
   ]
  },
  {
   "cell_type": "code",
   "execution_count": 101,
   "id": "28e35fac",
   "metadata": {},
   "outputs": [],
   "source": [
    "emp_dict['salary'] = 23456"
   ]
  },
  {
   "cell_type": "code",
   "execution_count": 102,
   "id": "973b83e7",
   "metadata": {},
   "outputs": [
    {
     "name": "stdout",
     "output_type": "stream",
     "text": [
      "{'eid': None, 'name': 'Jatin', 'salary': 23456, 'dept': None, 'address': None}\n"
     ]
    }
   ],
   "source": [
    "print(emp_dict)"
   ]
  },
  {
   "cell_type": "code",
   "execution_count": 103,
   "id": "2b942f0d",
   "metadata": {},
   "outputs": [
    {
     "name": "stdout",
     "output_type": "stream",
     "text": [
      "['clear', 'copy', 'fromkeys', 'get', 'items', 'keys', 'pop', 'popitem', 'setdefault', 'update', 'values']\n"
     ]
    }
   ],
   "source": [
    "print(all_methods)"
   ]
  },
  {
   "cell_type": "code",
   "execution_count": 104,
   "id": "10fdd626",
   "metadata": {},
   "outputs": [
    {
     "name": "stdout",
     "output_type": "stream",
     "text": [
      "{'Name': 'Jatin', 'Age': 21, 'Class': 12, 'Sec': 'A'}\n"
     ]
    }
   ],
   "source": [
    "students = {'Name':'Jatin','Age':21,'Class':12,'Sec':'A'}\n",
    "\n",
    "print(students)"
   ]
  },
  {
   "cell_type": "code",
   "execution_count": 108,
   "id": "b7bf5136",
   "metadata": {},
   "outputs": [],
   "source": [
    "students['Sec'] = 'L'"
   ]
  },
  {
   "cell_type": "code",
   "execution_count": 107,
   "id": "0ba40a2d",
   "metadata": {},
   "outputs": [
    {
     "ename": "SyntaxError",
     "evalue": "cannot assign to function call here. Maybe you meant '==' instead of '='? (1811168037.py, line 1)",
     "output_type": "error",
     "traceback": [
      "\u001b[1;36m  Cell \u001b[1;32mIn[107], line 1\u001b[1;36m\u001b[0m\n\u001b[1;33m    students.get('Sec') = 'K'\u001b[0m\n\u001b[1;37m    ^\u001b[0m\n\u001b[1;31mSyntaxError\u001b[0m\u001b[1;31m:\u001b[0m cannot assign to function call here. Maybe you meant '==' instead of '='?\n"
     ]
    }
   ],
   "source": [
    "students.get('Sec') = 'K'"
   ]
  },
  {
   "cell_type": "code",
   "execution_count": 109,
   "id": "3423537e",
   "metadata": {},
   "outputs": [
    {
     "data": {
      "text/plain": [
       "'L'"
      ]
     },
     "execution_count": 109,
     "metadata": {},
     "output_type": "execute_result"
    }
   ],
   "source": [
    "students.get('Sec')"
   ]
  },
  {
   "cell_type": "code",
   "execution_count": 111,
   "id": "ee5b6185",
   "metadata": {},
   "outputs": [
    {
     "data": {
      "text/plain": [
       "['Name', 'Age', 'Class', 'Sec']"
      ]
     },
     "execution_count": 111,
     "metadata": {},
     "output_type": "execute_result"
    }
   ],
   "source": [
    "list(students)"
   ]
  },
  {
   "cell_type": "code",
   "execution_count": 112,
   "id": "8dbc0555",
   "metadata": {},
   "outputs": [
    {
     "data": {
      "text/plain": [
       "dict_keys(['Name', 'Age', 'Class', 'Sec'])"
      ]
     },
     "execution_count": 112,
     "metadata": {},
     "output_type": "execute_result"
    }
   ],
   "source": [
    "students.keys()"
   ]
  },
  {
   "cell_type": "code",
   "execution_count": 113,
   "id": "30b7af14",
   "metadata": {},
   "outputs": [
    {
     "data": {
      "text/plain": [
       "dict_values(['Jatin', 21, 12, 'L'])"
      ]
     },
     "execution_count": 113,
     "metadata": {},
     "output_type": "execute_result"
    }
   ],
   "source": [
    "students.values()"
   ]
  },
  {
   "cell_type": "code",
   "execution_count": 114,
   "id": "c792d4d7",
   "metadata": {},
   "outputs": [
    {
     "data": {
      "text/plain": [
       "{'Name': 'Jatin', 'Age': 21, 'Class': 12, 'Sec': 'L'}"
      ]
     },
     "execution_count": 114,
     "metadata": {},
     "output_type": "execute_result"
    }
   ],
   "source": [
    "students"
   ]
  },
  {
   "cell_type": "code",
   "execution_count": 115,
   "id": "1aeb8ade",
   "metadata": {},
   "outputs": [
    {
     "data": {
      "text/plain": [
       "dict_items([('Name', 'Jatin'), ('Age', 21), ('Class', 12), ('Sec', 'L')])"
      ]
     },
     "execution_count": 115,
     "metadata": {},
     "output_type": "execute_result"
    }
   ],
   "source": [
    "students.items()"
   ]
  },
  {
   "cell_type": "code",
   "execution_count": 116,
   "id": "54a5c300",
   "metadata": {},
   "outputs": [],
   "source": [
    "# 'pop', 'popitem', 'setdefault', 'update',"
   ]
  },
  {
   "cell_type": "code",
   "execution_count": 117,
   "id": "e6b7425b",
   "metadata": {},
   "outputs": [
    {
     "data": {
      "text/plain": [
       "{'Name': 'Jatin', 'Age': 21, 'Class': 12, 'Sec': 'L'}"
      ]
     },
     "execution_count": 117,
     "metadata": {},
     "output_type": "execute_result"
    }
   ],
   "source": [
    "students"
   ]
  },
  {
   "cell_type": "code",
   "execution_count": 118,
   "id": "f2808a7c",
   "metadata": {},
   "outputs": [
    {
     "data": {
      "text/plain": [
       "21"
      ]
     },
     "execution_count": 118,
     "metadata": {},
     "output_type": "execute_result"
    }
   ],
   "source": [
    "students.pop('Age')"
   ]
  },
  {
   "cell_type": "code",
   "execution_count": 120,
   "id": "16cb9f77",
   "metadata": {},
   "outputs": [
    {
     "ename": "KeyError",
     "evalue": "'Address'",
     "output_type": "error",
     "traceback": [
      "\u001b[1;31m---------------------------------------------------------------------------\u001b[0m",
      "\u001b[1;31mKeyError\u001b[0m                                  Traceback (most recent call last)",
      "Cell \u001b[1;32mIn[120], line 1\u001b[0m\n\u001b[1;32m----> 1\u001b[0m students\u001b[38;5;241m.\u001b[39mpop(\u001b[38;5;124m'\u001b[39m\u001b[38;5;124mAddress\u001b[39m\u001b[38;5;124m'\u001b[39m)\n",
      "\u001b[1;31mKeyError\u001b[0m: 'Address'"
     ]
    }
   ],
   "source": [
    "students.pop('Address')"
   ]
  },
  {
   "cell_type": "code",
   "execution_count": 122,
   "id": "bfd8eb79",
   "metadata": {},
   "outputs": [
    {
     "data": {
      "text/plain": [
       "{'Name': 'Jatin', 'Class': 12, 'Sec': 'L'}"
      ]
     },
     "execution_count": 122,
     "metadata": {},
     "output_type": "execute_result"
    }
   ],
   "source": [
    "students"
   ]
  },
  {
   "cell_type": "code",
   "execution_count": 123,
   "id": "f5e8dfd9",
   "metadata": {},
   "outputs": [
    {
     "data": {
      "text/plain": [
       "('Sec', 'L')"
      ]
     },
     "execution_count": 123,
     "metadata": {},
     "output_type": "execute_result"
    }
   ],
   "source": [
    "students.popitem()"
   ]
  },
  {
   "cell_type": "code",
   "execution_count": 124,
   "id": "d07a7a58",
   "metadata": {},
   "outputs": [
    {
     "data": {
      "text/plain": [
       "{'Name': 'Jatin', 'Class': 12}"
      ]
     },
     "execution_count": 124,
     "metadata": {},
     "output_type": "execute_result"
    }
   ],
   "source": [
    "students"
   ]
  },
  {
   "cell_type": "code",
   "execution_count": 125,
   "id": "87f98b10",
   "metadata": {},
   "outputs": [
    {
     "data": {
      "text/plain": [
       "('Class', 12)"
      ]
     },
     "execution_count": 125,
     "metadata": {},
     "output_type": "execute_result"
    }
   ],
   "source": [
    "students.popitem()"
   ]
  },
  {
   "cell_type": "code",
   "execution_count": 126,
   "id": "3b848716",
   "metadata": {},
   "outputs": [
    {
     "data": {
      "text/plain": [
       "{'Name': 'Jatin'}"
      ]
     },
     "execution_count": 126,
     "metadata": {},
     "output_type": "execute_result"
    }
   ],
   "source": [
    "students"
   ]
  },
  {
   "cell_type": "code",
   "execution_count": null,
   "id": "998a236d",
   "metadata": {},
   "outputs": [],
   "source": []
  },
  {
   "cell_type": "code",
   "execution_count": null,
   "id": "468a8517",
   "metadata": {},
   "outputs": [],
   "source": []
  },
  {
   "cell_type": "code",
   "execution_count": null,
   "id": "21424f3c",
   "metadata": {},
   "outputs": [],
   "source": []
  },
  {
   "cell_type": "code",
   "execution_count": 127,
   "id": "1e9e04dd",
   "metadata": {},
   "outputs": [
    {
     "name": "stdout",
     "output_type": "stream",
     "text": [
      "{'Name': 'Jatin', 'Age': 21, 'Class': 12, 'Sec': 'A'}\n"
     ]
    }
   ],
   "source": [
    "students = {'Name':'Jatin','Age':21,'Class':12,'Sec':'A'}\n",
    "\n",
    "print(students)"
   ]
  },
  {
   "cell_type": "code",
   "execution_count": null,
   "id": "e0ee9868",
   "metadata": {},
   "outputs": [],
   "source": []
  },
  {
   "cell_type": "code",
   "execution_count": 128,
   "id": "0ce80f23",
   "metadata": {},
   "outputs": [],
   "source": [
    "car_collections = {'BMW':234567,'Kia':87654,'Audi':76549,'Maruti':87654,'Honda':87654}"
   ]
  },
  {
   "cell_type": "code",
   "execution_count": 129,
   "id": "405cbf89",
   "metadata": {},
   "outputs": [
    {
     "name": "stdout",
     "output_type": "stream",
     "text": [
      "{'BMW': 234567, 'Kia': 87654, 'Audi': 76549, 'Maruti': 87654, 'Honda': 87654}\n"
     ]
    }
   ],
   "source": [
    "print(car_collections)"
   ]
  },
  {
   "cell_type": "code",
   "execution_count": 130,
   "id": "e6731d72",
   "metadata": {},
   "outputs": [],
   "source": [
    "car_collections.setdefault('Mahindra Thar')"
   ]
  },
  {
   "cell_type": "code",
   "execution_count": 131,
   "id": "8504c665",
   "metadata": {},
   "outputs": [
    {
     "data": {
      "text/plain": [
       "{'BMW': 234567,\n",
       " 'Kia': 87654,\n",
       " 'Audi': 76549,\n",
       " 'Maruti': 87654,\n",
       " 'Honda': 87654,\n",
       " 'Mahindra Thar': None}"
      ]
     },
     "execution_count": 131,
     "metadata": {},
     "output_type": "execute_result"
    }
   ],
   "source": [
    "car_collections"
   ]
  },
  {
   "cell_type": "code",
   "execution_count": 132,
   "id": "ffbe530b",
   "metadata": {},
   "outputs": [
    {
     "data": {
      "text/plain": [
       "87654"
      ]
     },
     "execution_count": 132,
     "metadata": {},
     "output_type": "execute_result"
    }
   ],
   "source": [
    "car_collections.setdefault('Honda',0)"
   ]
  },
  {
   "cell_type": "code",
   "execution_count": 133,
   "id": "701abd52",
   "metadata": {},
   "outputs": [
    {
     "data": {
      "text/plain": [
       "{'BMW': 234567,\n",
       " 'Kia': 87654,\n",
       " 'Audi': 76549,\n",
       " 'Maruti': 87654,\n",
       " 'Honda': 87654,\n",
       " 'Mahindra Thar': None}"
      ]
     },
     "execution_count": 133,
     "metadata": {},
     "output_type": "execute_result"
    }
   ],
   "source": [
    "car_collections"
   ]
  },
  {
   "cell_type": "code",
   "execution_count": 134,
   "id": "a1393991",
   "metadata": {},
   "outputs": [
    {
     "data": {
      "text/plain": [
       "876543"
      ]
     },
     "execution_count": 134,
     "metadata": {},
     "output_type": "execute_result"
    }
   ],
   "source": [
    "car_collections.setdefault('Tata',876543)"
   ]
  },
  {
   "cell_type": "code",
   "execution_count": 135,
   "id": "e682468d",
   "metadata": {},
   "outputs": [
    {
     "data": {
      "text/plain": [
       "{'BMW': 234567,\n",
       " 'Kia': 87654,\n",
       " 'Audi': 76549,\n",
       " 'Maruti': 87654,\n",
       " 'Honda': 87654,\n",
       " 'Mahindra Thar': None,\n",
       " 'Tata': 876543}"
      ]
     },
     "execution_count": 135,
     "metadata": {},
     "output_type": "execute_result"
    }
   ],
   "source": [
    "car_collections"
   ]
  },
  {
   "cell_type": "code",
   "execution_count": null,
   "id": "436c029e",
   "metadata": {},
   "outputs": [],
   "source": []
  },
  {
   "cell_type": "code",
   "execution_count": 136,
   "id": "1202d597",
   "metadata": {},
   "outputs": [],
   "source": [
    "# update"
   ]
  },
  {
   "cell_type": "code",
   "execution_count": 139,
   "id": "01788be2",
   "metadata": {},
   "outputs": [],
   "source": [
    "car_collections.update({'Audi':9876545678})"
   ]
  },
  {
   "cell_type": "code",
   "execution_count": 140,
   "id": "fa9637d9",
   "metadata": {},
   "outputs": [
    {
     "data": {
      "text/plain": [
       "{'BMW': 234567,\n",
       " 'Kia': 87654,\n",
       " 'Audi': 9876545678,\n",
       " 'Maruti': 87654,\n",
       " 'Honda': 87654,\n",
       " 'Mahindra Thar': None,\n",
       " 'Tata': 876543}"
      ]
     },
     "execution_count": 140,
     "metadata": {},
     "output_type": "execute_result"
    }
   ],
   "source": [
    "car_collections"
   ]
  },
  {
   "cell_type": "code",
   "execution_count": 142,
   "id": "d38ebda2",
   "metadata": {},
   "outputs": [],
   "source": [
    "car_collections['Honda'] = 876543456789"
   ]
  },
  {
   "cell_type": "code",
   "execution_count": 143,
   "id": "75401a6b",
   "metadata": {},
   "outputs": [
    {
     "data": {
      "text/plain": [
       "{'BMW': 234567,\n",
       " 'Kia': 87654,\n",
       " 'Audi': 9876545678,\n",
       " 'Maruti': 87654,\n",
       " 'Honda': 876543456789,\n",
       " 'Mahindra Thar': None,\n",
       " 'Tata': 876543}"
      ]
     },
     "execution_count": 143,
     "metadata": {},
     "output_type": "execute_result"
    }
   ],
   "source": [
    "car_collections"
   ]
  },
  {
   "cell_type": "code",
   "execution_count": 144,
   "id": "38f3f1af",
   "metadata": {},
   "outputs": [],
   "source": [
    "car_collections.update({'Renault':34567,'Toyota':76543})"
   ]
  },
  {
   "cell_type": "code",
   "execution_count": 145,
   "id": "430306f8",
   "metadata": {},
   "outputs": [
    {
     "data": {
      "text/plain": [
       "{'BMW': 234567,\n",
       " 'Kia': 87654,\n",
       " 'Audi': 9876545678,\n",
       " 'Maruti': 87654,\n",
       " 'Honda': 876543456789,\n",
       " 'Mahindra Thar': None,\n",
       " 'Tata': 876543,\n",
       " 'Renault': 34567,\n",
       " 'Toyota': 76543}"
      ]
     },
     "execution_count": 145,
     "metadata": {},
     "output_type": "execute_result"
    }
   ],
   "source": [
    "car_collections"
   ]
  },
  {
   "cell_type": "code",
   "execution_count": 146,
   "id": "21c890e6",
   "metadata": {},
   "outputs": [],
   "source": [
    "car_collections['Skoda'] = 23456\n",
    "car_collections['Nissan'] = 76543"
   ]
  },
  {
   "cell_type": "code",
   "execution_count": 147,
   "id": "e113c720",
   "metadata": {},
   "outputs": [
    {
     "data": {
      "text/plain": [
       "{'BMW': 234567,\n",
       " 'Kia': 87654,\n",
       " 'Audi': 9876545678,\n",
       " 'Maruti': 87654,\n",
       " 'Honda': 876543456789,\n",
       " 'Mahindra Thar': None,\n",
       " 'Tata': 876543,\n",
       " 'Renault': 34567,\n",
       " 'Toyota': 76543,\n",
       " 'Skoda': 23456,\n",
       " 'Nissan': 76543}"
      ]
     },
     "execution_count": 147,
     "metadata": {},
     "output_type": "execute_result"
    }
   ],
   "source": [
    "car_collections"
   ]
  },
  {
   "cell_type": "code",
   "execution_count": null,
   "id": "b8ed65ff",
   "metadata": {},
   "outputs": [],
   "source": []
  },
  {
   "cell_type": "code",
   "execution_count": 148,
   "id": "6f9f37f0",
   "metadata": {},
   "outputs": [],
   "source": [
    "a = {'name':'kajal'}\n",
    "b = {'Age':23}\n",
    "c = {'Address':'Noida'}"
   ]
  },
  {
   "cell_type": "code",
   "execution_count": 149,
   "id": "927d2cc5",
   "metadata": {},
   "outputs": [],
   "source": [
    "d = {}"
   ]
  },
  {
   "cell_type": "code",
   "execution_count": 150,
   "id": "704a3cfe",
   "metadata": {},
   "outputs": [],
   "source": [
    "d.update(a)\n",
    "d.update(b)\n",
    "d.update(c)"
   ]
  },
  {
   "cell_type": "code",
   "execution_count": 151,
   "id": "f19d5cb9",
   "metadata": {},
   "outputs": [
    {
     "data": {
      "text/plain": [
       "{'name': 'kajal', 'Age': 23, 'Address': 'Noida'}"
      ]
     },
     "execution_count": 151,
     "metadata": {},
     "output_type": "execute_result"
    }
   ],
   "source": [
    "d"
   ]
  },
  {
   "cell_type": "code",
   "execution_count": 152,
   "id": "c9ef6249",
   "metadata": {},
   "outputs": [],
   "source": [
    "# unpacking"
   ]
  },
  {
   "cell_type": "code",
   "execution_count": 153,
   "id": "f8a8ddf6",
   "metadata": {},
   "outputs": [],
   "source": [
    "e = {**a,**b,**c}"
   ]
  },
  {
   "cell_type": "code",
   "execution_count": 154,
   "id": "4c673ec0",
   "metadata": {},
   "outputs": [
    {
     "name": "stdout",
     "output_type": "stream",
     "text": [
      "{'name': 'kajal', 'Age': 23, 'Address': 'Noida'}\n"
     ]
    }
   ],
   "source": [
    "print(e)"
   ]
  },
  {
   "cell_type": "code",
   "execution_count": null,
   "id": "1f707216",
   "metadata": {},
   "outputs": [],
   "source": []
  }
 ],
 "metadata": {
  "kernelspec": {
   "display_name": "Python 3 (ipykernel)",
   "language": "python",
   "name": "python3"
  },
  "language_info": {
   "codemirror_mode": {
    "name": "ipython",
    "version": 3
   },
   "file_extension": ".py",
   "mimetype": "text/x-python",
   "name": "python",
   "nbconvert_exporter": "python",
   "pygments_lexer": "ipython3",
   "version": "3.11.3"
  }
 },
 "nbformat": 4,
 "nbformat_minor": 5
}
